{
 "cells": [
  {
   "cell_type": "code",
   "execution_count": 2,
   "outputs": [],
   "source": [
    "#Import des librairies necessaire  a l'analyse des Data\n",
    "import numpy as np\n",
    "import pandas as pd\n",
    "import matplotlib as plt\n",
    "\n"
   ],
   "metadata": {
    "collapsed": false,
    "pycharm": {
     "name": "#%%\n",
     "is_executing": false
    }
   }
  },
  {
   "cell_type": "code",
   "execution_count": 53,
   "outputs": [
    {
     "data": {
      "text/plain": "                                  place  catu  grav  sexe  trajet  secu  locp  \\\nNum_Acc      num_veh_x num_veh_y                                                \n201800000001 B01       B01          1.0     1     3     1     0.0  11.0   0.0   \n                       A01          1.0     1     3     1     0.0  11.0   0.0   \n             A01       B01          1.0     1     1     1     5.0  11.0   0.0   \n                       A01          1.0     1     1     1     5.0  11.0   0.0   \n201800000002 A01       A01          1.0     1     1     1     0.0  11.0   0.0   \n...                                 ...   ...   ...   ...     ...   ...   ...   \n201800057782 B01       B01          1.0     1     4     1     9.0  21.0   NaN   \n201800057783 B01       B01          1.0     1     4     1     9.0  11.0   NaN   \n                       A01          1.0     1     4     1     9.0  11.0   NaN   \n             A01       B01          1.0     1     4     2     9.0  11.0   NaN   \n                       A01          1.0     1     4     2     9.0  11.0   NaN   \n\n                                  actp  etatp  an_nais  ...  agg  int  atm  \\\nNum_Acc      num_veh_x num_veh_y                        ...                  \n201800000001 B01       B01         0.0    0.0   1928.0  ...    1    4  1.0   \n                       A01         0.0    0.0   1928.0  ...    1    4  1.0   \n             A01       B01         0.0    0.0   1960.0  ...    1    4  1.0   \n                       A01         0.0    0.0   1960.0  ...    1    4  1.0   \n201800000002 A01       A01         0.0    0.0   1947.0  ...    2    7  7.0   \n...                                ...    ...      ...  ...  ...  ...  ...   \n201800057782 B01       B01         NaN    NaN   1974.0  ...    2    1  1.0   \n201800057783 B01       B01         NaN    NaN   1973.0  ...    2    1  1.0   \n                       A01         NaN    NaN   1973.0  ...    2    1  1.0   \n             A01       B01         NaN    NaN   1990.0  ...    2    1  1.0   \n                       A01         NaN    NaN   1990.0  ...    2    1  1.0   \n\n                                  col  com                       adr  gps  \\\nNum_Acc      num_veh_x num_veh_y                                            \n201800000001 B01       B01        1.0    5    route des Ansereuilles    M   \n                       A01        1.0    5    route des Ansereuilles    M   \n             A01       B01        1.0    5    route des Ansereuilles    M   \n                       A01        1.0    5    route des Ansereuilles    M   \n201800000002 A01       A01        7.0   11  Place du général de Gaul    M   \n...                               ...  ...                       ...  ...   \n201800057782 B01       B01        1.0  611   cavani-Kavani sud ( rue    Y   \n201800057783 B01       B01        1.0  611  m'tsapere-Nationale 2 (r    Y   \n                       A01        1.0  611  m'tsapere-Nationale 2 (r    Y   \n             A01       B01        1.0  611  m'tsapere-Nationale 2 (r    Y   \n                       A01        1.0  611  m'tsapere-Nationale 2 (r    Y   \n\n                                        lat       long  dep  \nNum_Acc      num_veh_x num_veh_y                             \n201800000001 B01       B01        5055737.0   294992.0  590  \n                       A01        5055737.0   294992.0  590  \n             A01       B01        5055737.0   294992.0  590  \n                       A01        5055737.0   294992.0  590  \n201800000002 A01       A01        5052936.0   293151.0  590  \n...                                     ...        ...  ...  \n201800057782 B01       B01        1278622.0  4522036.0  976  \n201800057783 B01       B01        1278943.0  4522408.0  976  \n                       A01        1278943.0  4522408.0  976  \n             A01       B01        1278943.0  4522408.0  976  \n                       A01        1278943.0  4522408.0  976  \n\n[248406 rows x 49 columns]",
      "text/html": "<div>\n<style scoped>\n    .dataframe tbody tr th:only-of-type {\n        vertical-align: middle;\n    }\n\n    .dataframe tbody tr th {\n        vertical-align: top;\n    }\n\n    .dataframe thead th {\n        text-align: right;\n    }\n</style>\n<table border=\"1\" class=\"dataframe\">\n  <thead>\n    <tr style=\"text-align: right;\">\n      <th></th>\n      <th></th>\n      <th></th>\n      <th>place</th>\n      <th>catu</th>\n      <th>grav</th>\n      <th>sexe</th>\n      <th>trajet</th>\n      <th>secu</th>\n      <th>locp</th>\n      <th>actp</th>\n      <th>etatp</th>\n      <th>an_nais</th>\n      <th>...</th>\n      <th>agg</th>\n      <th>int</th>\n      <th>atm</th>\n      <th>col</th>\n      <th>com</th>\n      <th>adr</th>\n      <th>gps</th>\n      <th>lat</th>\n      <th>long</th>\n      <th>dep</th>\n    </tr>\n    <tr>\n      <th>Num_Acc</th>\n      <th>num_veh_x</th>\n      <th>num_veh_y</th>\n      <th></th>\n      <th></th>\n      <th></th>\n      <th></th>\n      <th></th>\n      <th></th>\n      <th></th>\n      <th></th>\n      <th></th>\n      <th></th>\n      <th></th>\n      <th></th>\n      <th></th>\n      <th></th>\n      <th></th>\n      <th></th>\n      <th></th>\n      <th></th>\n      <th></th>\n      <th></th>\n      <th></th>\n    </tr>\n  </thead>\n  <tbody>\n    <tr>\n      <th rowspan=\"4\" valign=\"top\">201800000001</th>\n      <th rowspan=\"2\" valign=\"top\">B01</th>\n      <th>B01</th>\n      <td>1.0</td>\n      <td>1</td>\n      <td>3</td>\n      <td>1</td>\n      <td>0.0</td>\n      <td>11.0</td>\n      <td>0.0</td>\n      <td>0.0</td>\n      <td>0.0</td>\n      <td>1928.0</td>\n      <td>...</td>\n      <td>1</td>\n      <td>4</td>\n      <td>1.0</td>\n      <td>1.0</td>\n      <td>5</td>\n      <td>route des Ansereuilles</td>\n      <td>M</td>\n      <td>5055737.0</td>\n      <td>294992.0</td>\n      <td>590</td>\n    </tr>\n    <tr>\n      <th>A01</th>\n      <td>1.0</td>\n      <td>1</td>\n      <td>3</td>\n      <td>1</td>\n      <td>0.0</td>\n      <td>11.0</td>\n      <td>0.0</td>\n      <td>0.0</td>\n      <td>0.0</td>\n      <td>1928.0</td>\n      <td>...</td>\n      <td>1</td>\n      <td>4</td>\n      <td>1.0</td>\n      <td>1.0</td>\n      <td>5</td>\n      <td>route des Ansereuilles</td>\n      <td>M</td>\n      <td>5055737.0</td>\n      <td>294992.0</td>\n      <td>590</td>\n    </tr>\n    <tr>\n      <th rowspan=\"2\" valign=\"top\">A01</th>\n      <th>B01</th>\n      <td>1.0</td>\n      <td>1</td>\n      <td>1</td>\n      <td>1</td>\n      <td>5.0</td>\n      <td>11.0</td>\n      <td>0.0</td>\n      <td>0.0</td>\n      <td>0.0</td>\n      <td>1960.0</td>\n      <td>...</td>\n      <td>1</td>\n      <td>4</td>\n      <td>1.0</td>\n      <td>1.0</td>\n      <td>5</td>\n      <td>route des Ansereuilles</td>\n      <td>M</td>\n      <td>5055737.0</td>\n      <td>294992.0</td>\n      <td>590</td>\n    </tr>\n    <tr>\n      <th>A01</th>\n      <td>1.0</td>\n      <td>1</td>\n      <td>1</td>\n      <td>1</td>\n      <td>5.0</td>\n      <td>11.0</td>\n      <td>0.0</td>\n      <td>0.0</td>\n      <td>0.0</td>\n      <td>1960.0</td>\n      <td>...</td>\n      <td>1</td>\n      <td>4</td>\n      <td>1.0</td>\n      <td>1.0</td>\n      <td>5</td>\n      <td>route des Ansereuilles</td>\n      <td>M</td>\n      <td>5055737.0</td>\n      <td>294992.0</td>\n      <td>590</td>\n    </tr>\n    <tr>\n      <th>201800000002</th>\n      <th>A01</th>\n      <th>A01</th>\n      <td>1.0</td>\n      <td>1</td>\n      <td>1</td>\n      <td>1</td>\n      <td>0.0</td>\n      <td>11.0</td>\n      <td>0.0</td>\n      <td>0.0</td>\n      <td>0.0</td>\n      <td>1947.0</td>\n      <td>...</td>\n      <td>2</td>\n      <td>7</td>\n      <td>7.0</td>\n      <td>7.0</td>\n      <td>11</td>\n      <td>Place du général de Gaul</td>\n      <td>M</td>\n      <td>5052936.0</td>\n      <td>293151.0</td>\n      <td>590</td>\n    </tr>\n    <tr>\n      <th>...</th>\n      <th>...</th>\n      <th>...</th>\n      <td>...</td>\n      <td>...</td>\n      <td>...</td>\n      <td>...</td>\n      <td>...</td>\n      <td>...</td>\n      <td>...</td>\n      <td>...</td>\n      <td>...</td>\n      <td>...</td>\n      <td>...</td>\n      <td>...</td>\n      <td>...</td>\n      <td>...</td>\n      <td>...</td>\n      <td>...</td>\n      <td>...</td>\n      <td>...</td>\n      <td>...</td>\n      <td>...</td>\n      <td>...</td>\n    </tr>\n    <tr>\n      <th>201800057782</th>\n      <th>B01</th>\n      <th>B01</th>\n      <td>1.0</td>\n      <td>1</td>\n      <td>4</td>\n      <td>1</td>\n      <td>9.0</td>\n      <td>21.0</td>\n      <td>NaN</td>\n      <td>NaN</td>\n      <td>NaN</td>\n      <td>1974.0</td>\n      <td>...</td>\n      <td>2</td>\n      <td>1</td>\n      <td>1.0</td>\n      <td>1.0</td>\n      <td>611</td>\n      <td>cavani-Kavani sud ( rue</td>\n      <td>Y</td>\n      <td>1278622.0</td>\n      <td>4522036.0</td>\n      <td>976</td>\n    </tr>\n    <tr>\n      <th rowspan=\"4\" valign=\"top\">201800057783</th>\n      <th rowspan=\"2\" valign=\"top\">B01</th>\n      <th>B01</th>\n      <td>1.0</td>\n      <td>1</td>\n      <td>4</td>\n      <td>1</td>\n      <td>9.0</td>\n      <td>11.0</td>\n      <td>NaN</td>\n      <td>NaN</td>\n      <td>NaN</td>\n      <td>1973.0</td>\n      <td>...</td>\n      <td>2</td>\n      <td>1</td>\n      <td>1.0</td>\n      <td>1.0</td>\n      <td>611</td>\n      <td>m'tsapere-Nationale 2 (r</td>\n      <td>Y</td>\n      <td>1278943.0</td>\n      <td>4522408.0</td>\n      <td>976</td>\n    </tr>\n    <tr>\n      <th>A01</th>\n      <td>1.0</td>\n      <td>1</td>\n      <td>4</td>\n      <td>1</td>\n      <td>9.0</td>\n      <td>11.0</td>\n      <td>NaN</td>\n      <td>NaN</td>\n      <td>NaN</td>\n      <td>1973.0</td>\n      <td>...</td>\n      <td>2</td>\n      <td>1</td>\n      <td>1.0</td>\n      <td>1.0</td>\n      <td>611</td>\n      <td>m'tsapere-Nationale 2 (r</td>\n      <td>Y</td>\n      <td>1278943.0</td>\n      <td>4522408.0</td>\n      <td>976</td>\n    </tr>\n    <tr>\n      <th rowspan=\"2\" valign=\"top\">A01</th>\n      <th>B01</th>\n      <td>1.0</td>\n      <td>1</td>\n      <td>4</td>\n      <td>2</td>\n      <td>9.0</td>\n      <td>11.0</td>\n      <td>NaN</td>\n      <td>NaN</td>\n      <td>NaN</td>\n      <td>1990.0</td>\n      <td>...</td>\n      <td>2</td>\n      <td>1</td>\n      <td>1.0</td>\n      <td>1.0</td>\n      <td>611</td>\n      <td>m'tsapere-Nationale 2 (r</td>\n      <td>Y</td>\n      <td>1278943.0</td>\n      <td>4522408.0</td>\n      <td>976</td>\n    </tr>\n    <tr>\n      <th>A01</th>\n      <td>1.0</td>\n      <td>1</td>\n      <td>4</td>\n      <td>2</td>\n      <td>9.0</td>\n      <td>11.0</td>\n      <td>NaN</td>\n      <td>NaN</td>\n      <td>NaN</td>\n      <td>1990.0</td>\n      <td>...</td>\n      <td>2</td>\n      <td>1</td>\n      <td>1.0</td>\n      <td>1.0</td>\n      <td>611</td>\n      <td>m'tsapere-Nationale 2 (r</td>\n      <td>Y</td>\n      <td>1278943.0</td>\n      <td>4522408.0</td>\n      <td>976</td>\n    </tr>\n  </tbody>\n</table>\n<p>248406 rows × 49 columns</p>\n</div>"
     },
     "metadata": {},
     "output_type": "execute_result",
     "execution_count": 53
    }
   ],
   "source": [
    "# Import des données des different csv de l'année 2018\n",
    "DataAccident2018usagers = pd.read_csv(\"données/2018/usagers-2018.csv\",\",\",encoding='latin-1', low_memory=False)\n",
    "DataAccident2018lieux = pd.read_csv(\"données/2018/lieux-2018.csv\",\",\",encoding='latin-1',low_memory=False)\n",
    "DataAccident2018vehicules = pd.read_csv(\"données/2018/vehicules-2018.csv\",\",\",encoding='latin-1', low_memory=False)\n",
    "DataAccident2018caracteristiques = pd.read_csv(\"données/2018/caracteristiques-2018.csv\",\",\",encoding='latin-1',low_memory=False)\n",
    "\n",
    "# Merge des données de 2018 dans un seul dataset\n",
    "\n",
    "data2018firstmerge = pd.merge(DataAccident2018usagers, DataAccident2018vehicules, on='Num_Acc', how='inner')\n",
    "data2018secondmerge = pd.merge(data2018firstmerge, DataAccident2018lieux, on='Num_Acc', how='inner')\n",
    "dataAccident2018 = pd.merge(data2018secondmerge, DataAccident2018caracteristiques, on='Num_Acc',how='inner')\n",
    "dataAccident2018 = pd.DataFrame(dataAccident2018)\n",
    "dataAccident2018.set_index(['Num_Acc','num_veh_x','num_veh_y'])"
   ],
   "metadata": {
    "collapsed": false,
    "pycharm": {
     "name": "#%%\n",
     "is_executing": false
    }
   }
  },
  {
   "cell_type": "code",
   "execution_count": 3,
   "outputs": [
    {
     "data": {
      "text/plain": "                                  place  catu  grav  sexe  trajet  secu  locp  \\\nNum_Acc      num_veh_x num_veh_y                                                \n201700000001 B01       B01          1.0     1     3     1     9.0  13.0   0.0   \n                       A01          1.0     1     3     1     9.0  13.0   0.0   \n                       B01          2.0     2     3     2     9.0  11.0   0.0   \n                       A01          2.0     2     3     2     9.0  11.0   0.0   \n             A01       B01          1.0     1     3     1     1.0  13.0   0.0   \n...                                 ...   ...   ...   ...     ...   ...   ...   \n201700060700 B01       A01          1.0     1     4     1     9.0  21.0   0.0   \n                       B01          1.0     1     4     1     9.0  21.0   0.0   \n                       A01          2.0     2     4     2     9.0  21.0   0.0   \n                       B01          2.0     2     4     2     9.0  21.0   0.0   \n201700060701 A01       A01          1.0     1     4     1     1.0  21.0   0.0   \n\n                                  actp  etatp  an_nais  ...  agg  int  atm  \\\nNum_Acc      num_veh_x num_veh_y                        ...                  \n201700000001 B01       B01         0.0    0.0   1968.0  ...    2    1  1.0   \n                       A01         0.0    0.0   1968.0  ...    2    1  1.0   \n                       B01         0.0    0.0   1973.0  ...    2    1  1.0   \n                       A01         0.0    0.0   1973.0  ...    2    1  1.0   \n             A01       B01         0.0    0.0   1967.0  ...    2    1  1.0   \n...                                ...    ...      ...  ...  ...  ...  ...   \n201700060700 B01       A01         0.0    0.0   1991.0  ...    2    1  1.0   \n                       B01         0.0    0.0   1991.0  ...    2    1  1.0   \n                       A01         0.0    0.0   1990.0  ...    2    1  1.0   \n                       B01         0.0    0.0   1990.0  ...    2    1  1.0   \n201700060701 A01       A01         0.0    0.0   1992.0  ...    2    1  1.0   \n\n                                  col  com                      adr  gps  \\\nNum_Acc      num_veh_x num_veh_y                                           \n201700000001 B01       B01        1.0  477            rue nationale    M   \n                       A01        1.0  477            rue nationale    M   \n                       B01        1.0  477            rue nationale    M   \n                       A01        1.0  477            rue nationale    M   \n             A01       B01        1.0  477            rue nationale    M   \n...                               ...  ...                      ...  ...   \n201700060700 B01       A01        3.0  611  1, kaweni-Kaweni nord (    Y   \n                       B01        3.0  611  1, kaweni-Kaweni nord (    Y   \n                       A01        3.0  611  1, kaweni-Kaweni nord (    Y   \n                       B01        3.0  611  1, kaweni-Kaweni nord (    Y   \n201700060701 A01       A01        6.0  611    tsoundzou-Stara (rue)    Y   \n\n                                        lat       long  dep  \nNum_Acc      num_veh_x num_veh_y                             \n201700000001 B01       B01        5051326.0   292191.0  590  \n                       A01        5051326.0   292191.0  590  \n                       B01        5051326.0   292191.0  590  \n                       A01        5051326.0   292191.0  590  \n             A01       B01        5051326.0   292191.0  590  \n...                                     ...        ...  ...  \n201700060700 B01       A01        1276210.0  4522609.0  976  \n                       B01        1276210.0  4522609.0  976  \n                       A01        1276210.0  4522609.0  976  \n                       B01        1276210.0  4522609.0  976  \n201700060701 A01       A01        1281342.0  4520169.0  976  \n\n[260392 rows x 49 columns]",
      "text/html": "<div>\n<style scoped>\n    .dataframe tbody tr th:only-of-type {\n        vertical-align: middle;\n    }\n\n    .dataframe tbody tr th {\n        vertical-align: top;\n    }\n\n    .dataframe thead th {\n        text-align: right;\n    }\n</style>\n<table border=\"1\" class=\"dataframe\">\n  <thead>\n    <tr style=\"text-align: right;\">\n      <th></th>\n      <th></th>\n      <th></th>\n      <th>place</th>\n      <th>catu</th>\n      <th>grav</th>\n      <th>sexe</th>\n      <th>trajet</th>\n      <th>secu</th>\n      <th>locp</th>\n      <th>actp</th>\n      <th>etatp</th>\n      <th>an_nais</th>\n      <th>...</th>\n      <th>agg</th>\n      <th>int</th>\n      <th>atm</th>\n      <th>col</th>\n      <th>com</th>\n      <th>adr</th>\n      <th>gps</th>\n      <th>lat</th>\n      <th>long</th>\n      <th>dep</th>\n    </tr>\n    <tr>\n      <th>Num_Acc</th>\n      <th>num_veh_x</th>\n      <th>num_veh_y</th>\n      <th></th>\n      <th></th>\n      <th></th>\n      <th></th>\n      <th></th>\n      <th></th>\n      <th></th>\n      <th></th>\n      <th></th>\n      <th></th>\n      <th></th>\n      <th></th>\n      <th></th>\n      <th></th>\n      <th></th>\n      <th></th>\n      <th></th>\n      <th></th>\n      <th></th>\n      <th></th>\n      <th></th>\n    </tr>\n  </thead>\n  <tbody>\n    <tr>\n      <th rowspan=\"5\" valign=\"top\">201700000001</th>\n      <th rowspan=\"4\" valign=\"top\">B01</th>\n      <th>B01</th>\n      <td>1.0</td>\n      <td>1</td>\n      <td>3</td>\n      <td>1</td>\n      <td>9.0</td>\n      <td>13.0</td>\n      <td>0.0</td>\n      <td>0.0</td>\n      <td>0.0</td>\n      <td>1968.0</td>\n      <td>...</td>\n      <td>2</td>\n      <td>1</td>\n      <td>1.0</td>\n      <td>1.0</td>\n      <td>477</td>\n      <td>rue nationale</td>\n      <td>M</td>\n      <td>5051326.0</td>\n      <td>292191.0</td>\n      <td>590</td>\n    </tr>\n    <tr>\n      <th>A01</th>\n      <td>1.0</td>\n      <td>1</td>\n      <td>3</td>\n      <td>1</td>\n      <td>9.0</td>\n      <td>13.0</td>\n      <td>0.0</td>\n      <td>0.0</td>\n      <td>0.0</td>\n      <td>1968.0</td>\n      <td>...</td>\n      <td>2</td>\n      <td>1</td>\n      <td>1.0</td>\n      <td>1.0</td>\n      <td>477</td>\n      <td>rue nationale</td>\n      <td>M</td>\n      <td>5051326.0</td>\n      <td>292191.0</td>\n      <td>590</td>\n    </tr>\n    <tr>\n      <th>B01</th>\n      <td>2.0</td>\n      <td>2</td>\n      <td>3</td>\n      <td>2</td>\n      <td>9.0</td>\n      <td>11.0</td>\n      <td>0.0</td>\n      <td>0.0</td>\n      <td>0.0</td>\n      <td>1973.0</td>\n      <td>...</td>\n      <td>2</td>\n      <td>1</td>\n      <td>1.0</td>\n      <td>1.0</td>\n      <td>477</td>\n      <td>rue nationale</td>\n      <td>M</td>\n      <td>5051326.0</td>\n      <td>292191.0</td>\n      <td>590</td>\n    </tr>\n    <tr>\n      <th>A01</th>\n      <td>2.0</td>\n      <td>2</td>\n      <td>3</td>\n      <td>2</td>\n      <td>9.0</td>\n      <td>11.0</td>\n      <td>0.0</td>\n      <td>0.0</td>\n      <td>0.0</td>\n      <td>1973.0</td>\n      <td>...</td>\n      <td>2</td>\n      <td>1</td>\n      <td>1.0</td>\n      <td>1.0</td>\n      <td>477</td>\n      <td>rue nationale</td>\n      <td>M</td>\n      <td>5051326.0</td>\n      <td>292191.0</td>\n      <td>590</td>\n    </tr>\n    <tr>\n      <th>A01</th>\n      <th>B01</th>\n      <td>1.0</td>\n      <td>1</td>\n      <td>3</td>\n      <td>1</td>\n      <td>1.0</td>\n      <td>13.0</td>\n      <td>0.0</td>\n      <td>0.0</td>\n      <td>0.0</td>\n      <td>1967.0</td>\n      <td>...</td>\n      <td>2</td>\n      <td>1</td>\n      <td>1.0</td>\n      <td>1.0</td>\n      <td>477</td>\n      <td>rue nationale</td>\n      <td>M</td>\n      <td>5051326.0</td>\n      <td>292191.0</td>\n      <td>590</td>\n    </tr>\n    <tr>\n      <th>...</th>\n      <th>...</th>\n      <th>...</th>\n      <td>...</td>\n      <td>...</td>\n      <td>...</td>\n      <td>...</td>\n      <td>...</td>\n      <td>...</td>\n      <td>...</td>\n      <td>...</td>\n      <td>...</td>\n      <td>...</td>\n      <td>...</td>\n      <td>...</td>\n      <td>...</td>\n      <td>...</td>\n      <td>...</td>\n      <td>...</td>\n      <td>...</td>\n      <td>...</td>\n      <td>...</td>\n      <td>...</td>\n      <td>...</td>\n    </tr>\n    <tr>\n      <th rowspan=\"4\" valign=\"top\">201700060700</th>\n      <th rowspan=\"4\" valign=\"top\">B01</th>\n      <th>A01</th>\n      <td>1.0</td>\n      <td>1</td>\n      <td>4</td>\n      <td>1</td>\n      <td>9.0</td>\n      <td>21.0</td>\n      <td>0.0</td>\n      <td>0.0</td>\n      <td>0.0</td>\n      <td>1991.0</td>\n      <td>...</td>\n      <td>2</td>\n      <td>1</td>\n      <td>1.0</td>\n      <td>3.0</td>\n      <td>611</td>\n      <td>1, kaweni-Kaweni nord (</td>\n      <td>Y</td>\n      <td>1276210.0</td>\n      <td>4522609.0</td>\n      <td>976</td>\n    </tr>\n    <tr>\n      <th>B01</th>\n      <td>1.0</td>\n      <td>1</td>\n      <td>4</td>\n      <td>1</td>\n      <td>9.0</td>\n      <td>21.0</td>\n      <td>0.0</td>\n      <td>0.0</td>\n      <td>0.0</td>\n      <td>1991.0</td>\n      <td>...</td>\n      <td>2</td>\n      <td>1</td>\n      <td>1.0</td>\n      <td>3.0</td>\n      <td>611</td>\n      <td>1, kaweni-Kaweni nord (</td>\n      <td>Y</td>\n      <td>1276210.0</td>\n      <td>4522609.0</td>\n      <td>976</td>\n    </tr>\n    <tr>\n      <th>A01</th>\n      <td>2.0</td>\n      <td>2</td>\n      <td>4</td>\n      <td>2</td>\n      <td>9.0</td>\n      <td>21.0</td>\n      <td>0.0</td>\n      <td>0.0</td>\n      <td>0.0</td>\n      <td>1990.0</td>\n      <td>...</td>\n      <td>2</td>\n      <td>1</td>\n      <td>1.0</td>\n      <td>3.0</td>\n      <td>611</td>\n      <td>1, kaweni-Kaweni nord (</td>\n      <td>Y</td>\n      <td>1276210.0</td>\n      <td>4522609.0</td>\n      <td>976</td>\n    </tr>\n    <tr>\n      <th>B01</th>\n      <td>2.0</td>\n      <td>2</td>\n      <td>4</td>\n      <td>2</td>\n      <td>9.0</td>\n      <td>21.0</td>\n      <td>0.0</td>\n      <td>0.0</td>\n      <td>0.0</td>\n      <td>1990.0</td>\n      <td>...</td>\n      <td>2</td>\n      <td>1</td>\n      <td>1.0</td>\n      <td>3.0</td>\n      <td>611</td>\n      <td>1, kaweni-Kaweni nord (</td>\n      <td>Y</td>\n      <td>1276210.0</td>\n      <td>4522609.0</td>\n      <td>976</td>\n    </tr>\n    <tr>\n      <th>201700060701</th>\n      <th>A01</th>\n      <th>A01</th>\n      <td>1.0</td>\n      <td>1</td>\n      <td>4</td>\n      <td>1</td>\n      <td>1.0</td>\n      <td>21.0</td>\n      <td>0.0</td>\n      <td>0.0</td>\n      <td>0.0</td>\n      <td>1992.0</td>\n      <td>...</td>\n      <td>2</td>\n      <td>1</td>\n      <td>1.0</td>\n      <td>6.0</td>\n      <td>611</td>\n      <td>tsoundzou-Stara (rue)</td>\n      <td>Y</td>\n      <td>1281342.0</td>\n      <td>4520169.0</td>\n      <td>976</td>\n    </tr>\n  </tbody>\n</table>\n<p>260392 rows × 49 columns</p>\n</div>"
     },
     "metadata": {},
     "output_type": "execute_result",
     "execution_count": 3
    }
   ],
   "source": [
    "DataAccident2017usagers = pd.read_csv(\"données/2017/usagers-2017.csv\",\",\",encoding='latin-1', low_memory=False)\n",
    "DataAccident2017lieux = pd.read_csv(\"données/2017/lieux-2017.csv\",\",\",encoding='latin-1',low_memory=False)\n",
    "DataAccident2017vehicules = pd.read_csv(\"données/2017/vehicules-2017.csv\",\",\",encoding='latin-1', low_memory=False)\n",
    "DataAccident2017caracteristiques = pd.read_csv(\"données/2017/caracteristiques-2017.csv\",\",\",encoding='latin-1',low_memory=False)\n",
    "\n",
    "data2017firstmerge = pd.merge(DataAccident2017usagers, DataAccident2017vehicules, on='Num_Acc', how='outer')\n",
    "data2017secondmerge = pd.merge(data2017firstmerge, DataAccident2017lieux, on='Num_Acc', how='inner')\n",
    "dataAccident2017 = pd.merge(data2017secondmerge, DataAccident2017caracteristiques, on='Num_Acc',how='inner')\n",
    "dataAccident2017 = pd.DataFrame(dataAccident2017)\n",
    "dataAccident2017.set_index(['Num_Acc','num_veh_x','num_veh_y'])\n",
    "\n"
   ],
   "metadata": {
    "collapsed": false,
    "pycharm": {
     "name": "#%%\n",
     "is_executing": false
    }
   }
  },
  {
   "cell_type": "code",
   "execution_count": null,
   "outputs": [],
   "source": [
    "\n"
   ],
   "metadata": {
    "collapsed": false,
    "pycharm": {
     "name": "#%%\n"
    }
   }
  }
 ],
 "metadata": {
  "kernelspec": {
   "name": "pycharm-40e4d4ed",
   "language": "python",
   "display_name": "PyCharm (Controle_DataScientist)"
  },
  "language_info": {
   "codemirror_mode": {
    "name": "ipython",
    "version": 2
   },
   "file_extension": ".py",
   "mimetype": "text/x-python",
   "name": "python",
   "nbconvert_exporter": "python",
   "pygments_lexer": "ipython2",
   "version": "2.7.6"
  },
  "pycharm": {
   "stem_cell": {
    "cell_type": "raw",
    "source": [],
    "metadata": {
     "collapsed": false
    }
   }
  }
 },
 "nbformat": 4,
 "nbformat_minor": 0
}