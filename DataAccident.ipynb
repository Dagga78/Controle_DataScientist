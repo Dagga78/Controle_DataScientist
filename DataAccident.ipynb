{
 "cells": [
  {
   "cell_type": "code",
   "execution_count": 1,
   "outputs": [
    {
     "data": {
      "text/plain": "            Num_Acc    an  mois  jour  hrmn  \\\n0      201800000001  2018     1    24  1505   \n1      201800000002  2018     2    12  1015   \n2      201800000003  2018     3     4  1135   \n3      201800000004  2018     5     5  1735   \n4      201800000005  2018     6    26  1605   \n...             ...   ...   ...   ...   ...   \n57778  201800057779  2018    12    15  1050   \n57779  201800057780  2018    12    16   610   \n57780  201800057781  2018    12    22  2150   \n57781  201800057782  2018    12    23  1945   \n57782  201800057783  2018    12    28  1425   \n\n                                     lum                 agg  \\\n0                             Plein jour  Hors agglomération   \n1                             Plein jour    En agglomération   \n2                             Plein jour    En agglomération   \n3                             Plein jour    En agglomération   \n4                             Plein jour    En agglomération   \n...                                  ...                 ...   \n57778                         Plein jour    En agglomération   \n57779                 Crépuscule ou aube    En agglomération   \n57780  Nuit avec éclairage public allumé    En agglomération   \n57781  Nuit avec éclairage public allumé    En agglomération   \n57782                         Plein jour    En agglomération   \n\n                     int                atm                           col  \\\n0      Intersection en Y            Normale     Deux véhicules - frontale   \n1                  Place  Temps éblouissant                Sans collision   \n2      Intersection en T            Normale                Sans collision   \n3      Hors Intersection  Temps éblouissant  Deux véhicules – par le coté   \n4      Hors Intersection            Normale  Deux véhicules – par le coté   \n...                  ...                ...                           ...   \n57778  Hors Intersection            Normale               Autre collision   \n57779  Hors Intersection            Normale  Deux véhicules – par le coté   \n57780  Hors Intersection            Normale               Autre collision   \n57781  Hors Intersection            Normale     Deux véhicules - frontale   \n57782  Hors Intersection            Normale     Deux véhicules - frontale   \n\n       com                       adr        gps        lat       long    dep  \\\n0      005    ROUTE DES ANSEREUILLES  Métropole  5055737.0   294992.0  59005   \n1      011  PLACE DU GÉNÉRAL DE GAUL  Métropole  5052936.0   293151.0  59011   \n2      477            RUE  NATIONALE  Métropole  5051243.0   291714.0  59477   \n3      052       30 RUE JULES GUESDE  Métropole  5051974.0   289123.0  59052   \n4      477        72 RUE VICTOR HUGO  Métropole  5051607.0   290605.0  59477   \n...    ...                       ...        ...        ...        ...    ...   \n57778  611  PASSAMANTY-SADA ( RUE DE    Mayotte  1280217.0  4521356.0  97611   \n57779  611  MAMOUDZOU CENTRE-COMMAND    Mayotte  1278120.0  4523436.0  97611   \n57780  611   KAWENI-SPPM ( RUE DE LA    Mayotte  1276930.0  4522409.0  97611   \n57781  611   CAVANI-KAVANI SUD ( RUE    Mayotte  1278622.0  4522036.0  97611   \n57782  611  M'TSAPERE-NATIONALE 2 (R    Mayotte  1278943.0  4522408.0  97611   \n\n            date  \n0     2018-01-24  \n1     2018-02-12  \n2     2018-03-04  \n3     2018-05-05  \n4     2018-06-26  \n...          ...  \n57778 2018-12-15  \n57779 2018-12-16  \n57780 2018-12-22  \n57781 2018-12-23  \n57782 2018-12-28  \n\n[57783 rows x 17 columns]",
      "text/html": "<div>\n<style scoped>\n    .dataframe tbody tr th:only-of-type {\n        vertical-align: middle;\n    }\n\n    .dataframe tbody tr th {\n        vertical-align: top;\n    }\n\n    .dataframe thead th {\n        text-align: right;\n    }\n</style>\n<table border=\"1\" class=\"dataframe\">\n  <thead>\n    <tr style=\"text-align: right;\">\n      <th></th>\n      <th>Num_Acc</th>\n      <th>an</th>\n      <th>mois</th>\n      <th>jour</th>\n      <th>hrmn</th>\n      <th>lum</th>\n      <th>agg</th>\n      <th>int</th>\n      <th>atm</th>\n      <th>col</th>\n      <th>com</th>\n      <th>adr</th>\n      <th>gps</th>\n      <th>lat</th>\n      <th>long</th>\n      <th>dep</th>\n      <th>date</th>\n    </tr>\n  </thead>\n  <tbody>\n    <tr>\n      <th>0</th>\n      <td>201800000001</td>\n      <td>2018</td>\n      <td>1</td>\n      <td>24</td>\n      <td>1505</td>\n      <td>Plein jour</td>\n      <td>Hors agglomération</td>\n      <td>Intersection en Y</td>\n      <td>Normale</td>\n      <td>Deux véhicules - frontale</td>\n      <td>005</td>\n      <td>ROUTE DES ANSEREUILLES</td>\n      <td>Métropole</td>\n      <td>5055737.0</td>\n      <td>294992.0</td>\n      <td>59005</td>\n      <td>2018-01-24</td>\n    </tr>\n    <tr>\n      <th>1</th>\n      <td>201800000002</td>\n      <td>2018</td>\n      <td>2</td>\n      <td>12</td>\n      <td>1015</td>\n      <td>Plein jour</td>\n      <td>En agglomération</td>\n      <td>Place</td>\n      <td>Temps éblouissant</td>\n      <td>Sans collision</td>\n      <td>011</td>\n      <td>PLACE DU GÉNÉRAL DE GAUL</td>\n      <td>Métropole</td>\n      <td>5052936.0</td>\n      <td>293151.0</td>\n      <td>59011</td>\n      <td>2018-02-12</td>\n    </tr>\n    <tr>\n      <th>2</th>\n      <td>201800000003</td>\n      <td>2018</td>\n      <td>3</td>\n      <td>4</td>\n      <td>1135</td>\n      <td>Plein jour</td>\n      <td>En agglomération</td>\n      <td>Intersection en T</td>\n      <td>Normale</td>\n      <td>Sans collision</td>\n      <td>477</td>\n      <td>RUE  NATIONALE</td>\n      <td>Métropole</td>\n      <td>5051243.0</td>\n      <td>291714.0</td>\n      <td>59477</td>\n      <td>2018-03-04</td>\n    </tr>\n    <tr>\n      <th>3</th>\n      <td>201800000004</td>\n      <td>2018</td>\n      <td>5</td>\n      <td>5</td>\n      <td>1735</td>\n      <td>Plein jour</td>\n      <td>En agglomération</td>\n      <td>Hors Intersection</td>\n      <td>Temps éblouissant</td>\n      <td>Deux véhicules – par le coté</td>\n      <td>052</td>\n      <td>30 RUE JULES GUESDE</td>\n      <td>Métropole</td>\n      <td>5051974.0</td>\n      <td>289123.0</td>\n      <td>59052</td>\n      <td>2018-05-05</td>\n    </tr>\n    <tr>\n      <th>4</th>\n      <td>201800000005</td>\n      <td>2018</td>\n      <td>6</td>\n      <td>26</td>\n      <td>1605</td>\n      <td>Plein jour</td>\n      <td>En agglomération</td>\n      <td>Hors Intersection</td>\n      <td>Normale</td>\n      <td>Deux véhicules – par le coté</td>\n      <td>477</td>\n      <td>72 RUE VICTOR HUGO</td>\n      <td>Métropole</td>\n      <td>5051607.0</td>\n      <td>290605.0</td>\n      <td>59477</td>\n      <td>2018-06-26</td>\n    </tr>\n    <tr>\n      <th>...</th>\n      <td>...</td>\n      <td>...</td>\n      <td>...</td>\n      <td>...</td>\n      <td>...</td>\n      <td>...</td>\n      <td>...</td>\n      <td>...</td>\n      <td>...</td>\n      <td>...</td>\n      <td>...</td>\n      <td>...</td>\n      <td>...</td>\n      <td>...</td>\n      <td>...</td>\n      <td>...</td>\n      <td>...</td>\n    </tr>\n    <tr>\n      <th>57778</th>\n      <td>201800057779</td>\n      <td>2018</td>\n      <td>12</td>\n      <td>15</td>\n      <td>1050</td>\n      <td>Plein jour</td>\n      <td>En agglomération</td>\n      <td>Hors Intersection</td>\n      <td>Normale</td>\n      <td>Autre collision</td>\n      <td>611</td>\n      <td>PASSAMANTY-SADA ( RUE DE</td>\n      <td>Mayotte</td>\n      <td>1280217.0</td>\n      <td>4521356.0</td>\n      <td>97611</td>\n      <td>2018-12-15</td>\n    </tr>\n    <tr>\n      <th>57779</th>\n      <td>201800057780</td>\n      <td>2018</td>\n      <td>12</td>\n      <td>16</td>\n      <td>610</td>\n      <td>Crépuscule ou aube</td>\n      <td>En agglomération</td>\n      <td>Hors Intersection</td>\n      <td>Normale</td>\n      <td>Deux véhicules – par le coté</td>\n      <td>611</td>\n      <td>MAMOUDZOU CENTRE-COMMAND</td>\n      <td>Mayotte</td>\n      <td>1278120.0</td>\n      <td>4523436.0</td>\n      <td>97611</td>\n      <td>2018-12-16</td>\n    </tr>\n    <tr>\n      <th>57780</th>\n      <td>201800057781</td>\n      <td>2018</td>\n      <td>12</td>\n      <td>22</td>\n      <td>2150</td>\n      <td>Nuit avec éclairage public allumé</td>\n      <td>En agglomération</td>\n      <td>Hors Intersection</td>\n      <td>Normale</td>\n      <td>Autre collision</td>\n      <td>611</td>\n      <td>KAWENI-SPPM ( RUE DE LA</td>\n      <td>Mayotte</td>\n      <td>1276930.0</td>\n      <td>4522409.0</td>\n      <td>97611</td>\n      <td>2018-12-22</td>\n    </tr>\n    <tr>\n      <th>57781</th>\n      <td>201800057782</td>\n      <td>2018</td>\n      <td>12</td>\n      <td>23</td>\n      <td>1945</td>\n      <td>Nuit avec éclairage public allumé</td>\n      <td>En agglomération</td>\n      <td>Hors Intersection</td>\n      <td>Normale</td>\n      <td>Deux véhicules - frontale</td>\n      <td>611</td>\n      <td>CAVANI-KAVANI SUD ( RUE</td>\n      <td>Mayotte</td>\n      <td>1278622.0</td>\n      <td>4522036.0</td>\n      <td>97611</td>\n      <td>2018-12-23</td>\n    </tr>\n    <tr>\n      <th>57782</th>\n      <td>201800057783</td>\n      <td>2018</td>\n      <td>12</td>\n      <td>28</td>\n      <td>1425</td>\n      <td>Plein jour</td>\n      <td>En agglomération</td>\n      <td>Hors Intersection</td>\n      <td>Normale</td>\n      <td>Deux véhicules - frontale</td>\n      <td>611</td>\n      <td>M'TSAPERE-NATIONALE 2 (R</td>\n      <td>Mayotte</td>\n      <td>1278943.0</td>\n      <td>4522408.0</td>\n      <td>97611</td>\n      <td>2018-12-28</td>\n    </tr>\n  </tbody>\n</table>\n<p>57783 rows × 17 columns</p>\n</div>"
     },
     "metadata": {},
     "output_type": "execute_result",
     "execution_count": 1
    }
   ],
   "source": [
    "#Import des librairies necessaire  a l'analyse des Data\n",
    "import numpy as np\n",
    "import pandas as pd\n",
    "import matplotlib as plt\n",
    "import Normalize_Data as normalize\n",
    "import datetime\n",
    "\n",
    "# Import des données des different csv de l'année 2018\n",
    "DataAccident2018usagers = pd.read_csv(\"données/2018/usagers-2018.csv\",\",\",encoding='latin-1', low_memory=False)\n",
    "DataAccident2018lieux = pd.read_csv(\"données/2018/lieux-2018.csv\",\",\",encoding='latin-1',low_memory=False)\n",
    "DataAccident2018vehicules = pd.read_csv(\"données/2018/vehicules-2018.csv\",\",\",encoding='latin-1', low_memory=False)\n",
    "DataAccident2018caracteristiques = pd.read_csv(\"données/2018/caracteristiques-2018.csv\",\",\",encoding='latin-1',low_memory=False)\n",
    "# Normalize Data\n",
    "DataAccident2018caracteristiques,DataAccident2018lieux,DataAccident2018usagers,DataAccident2018vehicules = normalize.normalise_data(DataAccident2018caracteristiques,DataAccident2018lieux,DataAccident2018usagers,DataAccident2018vehicules)\n",
    "# Fill NaN Data\n",
    "DataAccident2018usagers = DataAccident2018usagers.fillna(value={\"place\":\"Inconnu\",\"actp\":0,\"locp\":\"Inconnu\",\"etatp\":\"Inconnu\"})\n",
    "\n",
    "DataAccident2018caracteristiques\n",
    "\n",
    "\n",
    "\n",
    "# Data2018merge = pd.merge(pd.merge(DataAccident2018caracteristiques,DataAccident2018lieux, on='Num_Acc', how='inner'),pd.merge(DataAccident2018usagers,DataAccident2018vehicules, on='Num_Acc', how='inner'), on='Num_Acc', how='inner')\n",
    "# Data2018merge = Data2018merge[Data2018merge['num_veh_y'] != \"B01\"]\n",
    "# Data2018merge.set_index(['Num_Acc','num_veh_x','num_veh_y'])\n",
    "\n",
    "\n",
    "\n",
    "# data2018firstmerge = pd.merge(DataAccident2018usagers, DataAccident2018vehicules, on='Num_Acc', how='inner')\n",
    "# data2018secondmerge = pd.merge(data2018firstmerge, DataAccident2018lieux, on='Num_Acc', how='inner')\n",
    "# dataAccident2018 = pd.merge(data2018secondmerge, DataAccident2018caracteristiques, on='Num_Acc',how='inner')\n",
    "# dataAccident2018.drop_duplicates() \n",
    "# dataAccident2018 = pd.DataFrame(dataAccident2018)\n",
    "# dataAccident2018.set_index(['Num_Acc','num_veh_x','num_veh_y'])"
   ],
   "metadata": {
    "collapsed": false,
    "pycharm": {
     "name": "#%%\n",
     "is_executing": false
    }
   }
  },
  {
   "cell_type": "code",
   "execution_count": 2,
   "outputs": [
    {
     "data": {
      "text/plain": "                                  place  catu  grav  sexe  trajet  secu  locp  \\\nNum_Acc      num_veh_x num_veh_y                                                \n201700000001 B01       A01          1.0     1     3     1     9.0  13.0   0.0   \n                       A01          2.0     2     3     2     9.0  11.0   0.0   \n             A01       A01          1.0     1     3     1     1.0  13.0   0.0   \n201700000002 A01       A01          1.0     1     1     1     0.0  11.0   0.0   \n             B01       A01          1.0     1     3     1     5.0  22.0   0.0   \n...                                 ...   ...   ...   ...     ...   ...   ...   \n201700060699 B01       A01          1.0     1     1     2     9.0  11.0   0.0   \n201700060700 A01       A01          1.0     1     1     2     9.0  11.0   0.0   \n             B01       A01          1.0     1     4     1     9.0  21.0   0.0   \n                       A01          2.0     2     4     2     9.0  21.0   0.0   \n201700060701 A01       A01          1.0     1     4     1     1.0  21.0   0.0   \n\n                                  actp  etatp  an_nais  ...  agg  int  atm  \\\nNum_Acc      num_veh_x num_veh_y                        ...                  \n201700000001 B01       A01         0.0    0.0   1968.0  ...    2    1  1.0   \n                       A01         0.0    0.0   1973.0  ...    2    1  1.0   \n             A01       A01         0.0    0.0   1967.0  ...    2    1  1.0   \n201700000002 A01       A01         0.0    0.0   1953.0  ...    2    3  1.0   \n             B01       A01         0.0    0.0   1960.0  ...    2    3  1.0   \n...                                ...    ...      ...  ...  ...  ...  ...   \n201700060699 B01       A01         0.0    0.0   1974.0  ...    2    1  1.0   \n201700060700 A01       A01         0.0    0.0   1987.0  ...    2    1  1.0   \n             B01       A01         0.0    0.0   1991.0  ...    2    1  1.0   \n                       A01         0.0    0.0   1990.0  ...    2    1  1.0   \n201700060701 A01       A01         0.0    0.0   1992.0  ...    2    1  1.0   \n\n                                  col  com                       adr  gps  \\\nNum_Acc      num_veh_x num_veh_y                                            \n201700000001 B01       A01        1.0  477             rue nationale    M   \n                       A01        1.0  477             rue nationale    M   \n             A01       A01        1.0  477             rue nationale    M   \n201700000002 A01       A01        3.0    5          5 rue sonneville    M   \n             B01       A01        3.0    5          5 rue sonneville    M   \n...                               ...  ...                       ...  ...   \n201700060699 B01       A01        3.0  611  1, tsoundzou-Abdallah So    Y   \n201700060700 A01       A01        3.0  611   1, kaweni-Kaweni nord (    Y   \n             B01       A01        3.0  611   1, kaweni-Kaweni nord (    Y   \n                       A01        3.0  611   1, kaweni-Kaweni nord (    Y   \n201700060701 A01       A01        6.0  611     tsoundzou-Stara (rue)    Y   \n\n                                        lat       long  dep  \nNum_Acc      num_veh_x num_veh_y                             \n201700000001 B01       A01        5051326.0   292191.0  590  \n                       A01        5051326.0   292191.0  590  \n             A01       A01        5051326.0   292191.0  590  \n201700000002 A01       A01        5053611.0   295314.0  590  \n             B01       A01        5053611.0   295314.0  590  \n...                                     ...        ...  ...  \n201700060699 B01       A01        1280711.0  4520617.0  976  \n201700060700 A01       A01        1276210.0  4522609.0  976  \n             B01       A01        1276210.0  4522609.0  976  \n                       A01        1276210.0  4522609.0  976  \n201700060701 A01       A01        1281342.0  4520169.0  976  \n\n[166153 rows x 49 columns]",
      "text/html": "<div>\n<style scoped>\n    .dataframe tbody tr th:only-of-type {\n        vertical-align: middle;\n    }\n\n    .dataframe tbody tr th {\n        vertical-align: top;\n    }\n\n    .dataframe thead th {\n        text-align: right;\n    }\n</style>\n<table border=\"1\" class=\"dataframe\">\n  <thead>\n    <tr style=\"text-align: right;\">\n      <th></th>\n      <th></th>\n      <th></th>\n      <th>place</th>\n      <th>catu</th>\n      <th>grav</th>\n      <th>sexe</th>\n      <th>trajet</th>\n      <th>secu</th>\n      <th>locp</th>\n      <th>actp</th>\n      <th>etatp</th>\n      <th>an_nais</th>\n      <th>...</th>\n      <th>agg</th>\n      <th>int</th>\n      <th>atm</th>\n      <th>col</th>\n      <th>com</th>\n      <th>adr</th>\n      <th>gps</th>\n      <th>lat</th>\n      <th>long</th>\n      <th>dep</th>\n    </tr>\n    <tr>\n      <th>Num_Acc</th>\n      <th>num_veh_x</th>\n      <th>num_veh_y</th>\n      <th></th>\n      <th></th>\n      <th></th>\n      <th></th>\n      <th></th>\n      <th></th>\n      <th></th>\n      <th></th>\n      <th></th>\n      <th></th>\n      <th></th>\n      <th></th>\n      <th></th>\n      <th></th>\n      <th></th>\n      <th></th>\n      <th></th>\n      <th></th>\n      <th></th>\n      <th></th>\n      <th></th>\n    </tr>\n  </thead>\n  <tbody>\n    <tr>\n      <th rowspan=\"3\" valign=\"top\">201700000001</th>\n      <th rowspan=\"2\" valign=\"top\">B01</th>\n      <th>A01</th>\n      <td>1.0</td>\n      <td>1</td>\n      <td>3</td>\n      <td>1</td>\n      <td>9.0</td>\n      <td>13.0</td>\n      <td>0.0</td>\n      <td>0.0</td>\n      <td>0.0</td>\n      <td>1968.0</td>\n      <td>...</td>\n      <td>2</td>\n      <td>1</td>\n      <td>1.0</td>\n      <td>1.0</td>\n      <td>477</td>\n      <td>rue nationale</td>\n      <td>M</td>\n      <td>5051326.0</td>\n      <td>292191.0</td>\n      <td>590</td>\n    </tr>\n    <tr>\n      <th>A01</th>\n      <td>2.0</td>\n      <td>2</td>\n      <td>3</td>\n      <td>2</td>\n      <td>9.0</td>\n      <td>11.0</td>\n      <td>0.0</td>\n      <td>0.0</td>\n      <td>0.0</td>\n      <td>1973.0</td>\n      <td>...</td>\n      <td>2</td>\n      <td>1</td>\n      <td>1.0</td>\n      <td>1.0</td>\n      <td>477</td>\n      <td>rue nationale</td>\n      <td>M</td>\n      <td>5051326.0</td>\n      <td>292191.0</td>\n      <td>590</td>\n    </tr>\n    <tr>\n      <th>A01</th>\n      <th>A01</th>\n      <td>1.0</td>\n      <td>1</td>\n      <td>3</td>\n      <td>1</td>\n      <td>1.0</td>\n      <td>13.0</td>\n      <td>0.0</td>\n      <td>0.0</td>\n      <td>0.0</td>\n      <td>1967.0</td>\n      <td>...</td>\n      <td>2</td>\n      <td>1</td>\n      <td>1.0</td>\n      <td>1.0</td>\n      <td>477</td>\n      <td>rue nationale</td>\n      <td>M</td>\n      <td>5051326.0</td>\n      <td>292191.0</td>\n      <td>590</td>\n    </tr>\n    <tr>\n      <th rowspan=\"2\" valign=\"top\">201700000002</th>\n      <th>A01</th>\n      <th>A01</th>\n      <td>1.0</td>\n      <td>1</td>\n      <td>1</td>\n      <td>1</td>\n      <td>0.0</td>\n      <td>11.0</td>\n      <td>0.0</td>\n      <td>0.0</td>\n      <td>0.0</td>\n      <td>1953.0</td>\n      <td>...</td>\n      <td>2</td>\n      <td>3</td>\n      <td>1.0</td>\n      <td>3.0</td>\n      <td>5</td>\n      <td>5 rue sonneville</td>\n      <td>M</td>\n      <td>5053611.0</td>\n      <td>295314.0</td>\n      <td>590</td>\n    </tr>\n    <tr>\n      <th>B01</th>\n      <th>A01</th>\n      <td>1.0</td>\n      <td>1</td>\n      <td>3</td>\n      <td>1</td>\n      <td>5.0</td>\n      <td>22.0</td>\n      <td>0.0</td>\n      <td>0.0</td>\n      <td>0.0</td>\n      <td>1960.0</td>\n      <td>...</td>\n      <td>2</td>\n      <td>3</td>\n      <td>1.0</td>\n      <td>3.0</td>\n      <td>5</td>\n      <td>5 rue sonneville</td>\n      <td>M</td>\n      <td>5053611.0</td>\n      <td>295314.0</td>\n      <td>590</td>\n    </tr>\n    <tr>\n      <th>...</th>\n      <th>...</th>\n      <th>...</th>\n      <td>...</td>\n      <td>...</td>\n      <td>...</td>\n      <td>...</td>\n      <td>...</td>\n      <td>...</td>\n      <td>...</td>\n      <td>...</td>\n      <td>...</td>\n      <td>...</td>\n      <td>...</td>\n      <td>...</td>\n      <td>...</td>\n      <td>...</td>\n      <td>...</td>\n      <td>...</td>\n      <td>...</td>\n      <td>...</td>\n      <td>...</td>\n      <td>...</td>\n      <td>...</td>\n    </tr>\n    <tr>\n      <th>201700060699</th>\n      <th>B01</th>\n      <th>A01</th>\n      <td>1.0</td>\n      <td>1</td>\n      <td>1</td>\n      <td>2</td>\n      <td>9.0</td>\n      <td>11.0</td>\n      <td>0.0</td>\n      <td>0.0</td>\n      <td>0.0</td>\n      <td>1974.0</td>\n      <td>...</td>\n      <td>2</td>\n      <td>1</td>\n      <td>1.0</td>\n      <td>3.0</td>\n      <td>611</td>\n      <td>1, tsoundzou-Abdallah So</td>\n      <td>Y</td>\n      <td>1280711.0</td>\n      <td>4520617.0</td>\n      <td>976</td>\n    </tr>\n    <tr>\n      <th rowspan=\"3\" valign=\"top\">201700060700</th>\n      <th>A01</th>\n      <th>A01</th>\n      <td>1.0</td>\n      <td>1</td>\n      <td>1</td>\n      <td>2</td>\n      <td>9.0</td>\n      <td>11.0</td>\n      <td>0.0</td>\n      <td>0.0</td>\n      <td>0.0</td>\n      <td>1987.0</td>\n      <td>...</td>\n      <td>2</td>\n      <td>1</td>\n      <td>1.0</td>\n      <td>3.0</td>\n      <td>611</td>\n      <td>1, kaweni-Kaweni nord (</td>\n      <td>Y</td>\n      <td>1276210.0</td>\n      <td>4522609.0</td>\n      <td>976</td>\n    </tr>\n    <tr>\n      <th rowspan=\"2\" valign=\"top\">B01</th>\n      <th>A01</th>\n      <td>1.0</td>\n      <td>1</td>\n      <td>4</td>\n      <td>1</td>\n      <td>9.0</td>\n      <td>21.0</td>\n      <td>0.0</td>\n      <td>0.0</td>\n      <td>0.0</td>\n      <td>1991.0</td>\n      <td>...</td>\n      <td>2</td>\n      <td>1</td>\n      <td>1.0</td>\n      <td>3.0</td>\n      <td>611</td>\n      <td>1, kaweni-Kaweni nord (</td>\n      <td>Y</td>\n      <td>1276210.0</td>\n      <td>4522609.0</td>\n      <td>976</td>\n    </tr>\n    <tr>\n      <th>A01</th>\n      <td>2.0</td>\n      <td>2</td>\n      <td>4</td>\n      <td>2</td>\n      <td>9.0</td>\n      <td>21.0</td>\n      <td>0.0</td>\n      <td>0.0</td>\n      <td>0.0</td>\n      <td>1990.0</td>\n      <td>...</td>\n      <td>2</td>\n      <td>1</td>\n      <td>1.0</td>\n      <td>3.0</td>\n      <td>611</td>\n      <td>1, kaweni-Kaweni nord (</td>\n      <td>Y</td>\n      <td>1276210.0</td>\n      <td>4522609.0</td>\n      <td>976</td>\n    </tr>\n    <tr>\n      <th>201700060701</th>\n      <th>A01</th>\n      <th>A01</th>\n      <td>1.0</td>\n      <td>1</td>\n      <td>4</td>\n      <td>1</td>\n      <td>1.0</td>\n      <td>21.0</td>\n      <td>0.0</td>\n      <td>0.0</td>\n      <td>0.0</td>\n      <td>1992.0</td>\n      <td>...</td>\n      <td>2</td>\n      <td>1</td>\n      <td>1.0</td>\n      <td>6.0</td>\n      <td>611</td>\n      <td>tsoundzou-Stara (rue)</td>\n      <td>Y</td>\n      <td>1281342.0</td>\n      <td>4520169.0</td>\n      <td>976</td>\n    </tr>\n  </tbody>\n</table>\n<p>166153 rows × 49 columns</p>\n</div>"
     },
     "metadata": {},
     "output_type": "execute_result",
     "execution_count": 2
    }
   ],
   "source": [
    "DataAccident2017usagers = pd.read_csv(\"données/2017/usagers-2017.csv\",\",\",encoding='latin-1', low_memory=False)\n",
    "DataAccident2017lieux = pd.read_csv(\"données/2017/lieux-2017.csv\",\",\",encoding='latin-1',low_memory=False)\n",
    "DataAccident2017vehicules = pd.read_csv(\"données/2017/vehicules-2017.csv\",\",\",encoding='latin-1', low_memory=False)\n",
    "DataAccident2017caracteristiques = pd.read_csv(\"données/2017/caracteristiques-2017.csv\",\",\",encoding='latin-1',low_memory=False)\n",
    "\n",
    "\n",
    "data2017firstmerge = pd.merge(DataAccident2017usagers, DataAccident2017vehicules, on='Num_Acc', how='outer')\n",
    "data2017secondmerge = pd.merge(data2017firstmerge, DataAccident2017lieux, on='Num_Acc', how='inner')\n",
    "dataAccident2017 = pd.merge(data2017secondmerge, DataAccident2017caracteristiques, on='Num_Acc',how='inner')\n",
    "dataAccident2017= dataAccident2017[dataAccident2017['num_veh_y'] != \"B01\"]\n",
    "\n",
    "\n",
    "dataAccident2017 = pd.DataFrame(dataAccident2017)\n",
    "dataAccident2017.set_index(['Num_Acc','num_veh_x','num_veh_y'])\n",
    "\n"
   ],
   "metadata": {
    "collapsed": false,
    "pycharm": {
     "name": "#%%\n",
     "is_executing": false
    }
   }
  },
  {
   "cell_type": "code",
   "execution_count": 3,
   "outputs": [
    {
     "data": {
      "text/plain": "                   Num_Acc                  catr voie  v1   v2  \\\n201800000001  201800000001  Route Départementale   41 NaN    C   \n201800000002  201800000002        Voie Communale   41 NaN    D   \n201800000003  201800000003  Route Départementale   39 NaN    D   \n201800000004  201800000004  Route Départementale   39 NaN  NaN   \n201800000005  201800000005        Voie Communale  NaN NaN  NaN   \n...                    ...                   ...  ...  ..  ...   \n201800057779  201800057779        Voie Communale  NaN NaN  NaN   \n201800057780  201800057780       Route Nationale    2 NaN  NaN   \n201800057781  201800057781       Route Nationale    1 NaN  NaN   \n201800057782  201800057782        Voie Communale  NaN NaN  NaN   \n201800057783  201800057783       Route Nationale    2 NaN  NaN   \n\n                          circ  nbv   pr    pr1                  vosp   prof  \\\n201800000001  Bidirectionnelle  2.0  NaN    NaN  Aucune voie réservée   Plat   \n201800000002  Bidirectionnelle  2.0  NaN    NaN  Aucune voie réservée   Plat   \n201800000003  Bidirectionnelle  2.0  NaN    NaN  Aucune voie réservée   Plat   \n201800000004  Bidirectionnelle  2.0  NaN    NaN  Aucune voie réservée   Plat   \n201800000005     A sens unique  1.0  NaN    NaN  Aucune voie réservée   Plat   \n...                        ...  ...  ...    ...                   ...    ...   \n201800057779     A sens unique  1.0  0.0    0.0  Aucune voie réservée   Plat   \n201800057780                 0  2.0  0.0    0.0  Aucune voie réservée   Plat   \n201800057781  Bidirectionnelle  2.0  0.0    0.0  Aucune voie réservée   Plat   \n201800057782                 0  2.0  0.0    0.0  Aucune voie réservée  Pente   \n201800057783  Bidirectionnelle  2.0  2.0  380.0  Aucune voie réservée   Plat   \n\n                            plan  lartpc  larrout     surf infra  \\\n201800000001  En courbe à droite     NaN      NaN  Normale     0   \n201800000002  En courbe à gauche     NaN      NaN  Normale     0   \n201800000003   Partie rectiligne     NaN      NaN  Normale     0   \n201800000004   Partie rectiligne     NaN      NaN  Normale     0   \n201800000005   Partie rectiligne     NaN      NaN  Normale     0   \n...                          ...     ...      ...      ...   ...   \n201800057779   Partie rectiligne     NaN      NaN  Normale     0   \n201800057780   Partie rectiligne     NaN      NaN  Normale     0   \n201800057781   Partie rectiligne     NaN      NaN  Normale     0   \n201800057782  En courbe à gauche     NaN      NaN  Normale     0   \n201800057783   Partie rectiligne     NaN      NaN  Normale     0   \n\n                        situ  env1  \n201800000001    Sur chaussée   0.0  \n201800000002    Sur chaussée   0.0  \n201800000003    Sur chaussée   0.0  \n201800000004    Sur chaussée   0.0  \n201800000005    Sur chaussée   0.0  \n...                      ...   ...  \n201800057779  Sur accotement   0.0  \n201800057780  Sur accotement   0.0  \n201800057781  Sur accotement   0.0  \n201800057782  Sur accotement   0.0  \n201800057783  Sur accotement   0.0  \n\n[57783 rows x 18 columns]",
      "text/html": "<div>\n<style scoped>\n    .dataframe tbody tr th:only-of-type {\n        vertical-align: middle;\n    }\n\n    .dataframe tbody tr th {\n        vertical-align: top;\n    }\n\n    .dataframe thead th {\n        text-align: right;\n    }\n</style>\n<table border=\"1\" class=\"dataframe\">\n  <thead>\n    <tr style=\"text-align: right;\">\n      <th></th>\n      <th>Num_Acc</th>\n      <th>catr</th>\n      <th>voie</th>\n      <th>v1</th>\n      <th>v2</th>\n      <th>circ</th>\n      <th>nbv</th>\n      <th>pr</th>\n      <th>pr1</th>\n      <th>vosp</th>\n      <th>prof</th>\n      <th>plan</th>\n      <th>lartpc</th>\n      <th>larrout</th>\n      <th>surf</th>\n      <th>infra</th>\n      <th>situ</th>\n      <th>env1</th>\n    </tr>\n  </thead>\n  <tbody>\n    <tr>\n      <th>201800000001</th>\n      <td>201800000001</td>\n      <td>Route Départementale</td>\n      <td>41</td>\n      <td>NaN</td>\n      <td>C</td>\n      <td>Bidirectionnelle</td>\n      <td>2.0</td>\n      <td>NaN</td>\n      <td>NaN</td>\n      <td>Aucune voie réservée</td>\n      <td>Plat</td>\n      <td>En courbe à droite</td>\n      <td>NaN</td>\n      <td>NaN</td>\n      <td>Normale</td>\n      <td>0</td>\n      <td>Sur chaussée</td>\n      <td>0.0</td>\n    </tr>\n    <tr>\n      <th>201800000002</th>\n      <td>201800000002</td>\n      <td>Voie Communale</td>\n      <td>41</td>\n      <td>NaN</td>\n      <td>D</td>\n      <td>Bidirectionnelle</td>\n      <td>2.0</td>\n      <td>NaN</td>\n      <td>NaN</td>\n      <td>Aucune voie réservée</td>\n      <td>Plat</td>\n      <td>En courbe à gauche</td>\n      <td>NaN</td>\n      <td>NaN</td>\n      <td>Normale</td>\n      <td>0</td>\n      <td>Sur chaussée</td>\n      <td>0.0</td>\n    </tr>\n    <tr>\n      <th>201800000003</th>\n      <td>201800000003</td>\n      <td>Route Départementale</td>\n      <td>39</td>\n      <td>NaN</td>\n      <td>D</td>\n      <td>Bidirectionnelle</td>\n      <td>2.0</td>\n      <td>NaN</td>\n      <td>NaN</td>\n      <td>Aucune voie réservée</td>\n      <td>Plat</td>\n      <td>Partie rectiligne</td>\n      <td>NaN</td>\n      <td>NaN</td>\n      <td>Normale</td>\n      <td>0</td>\n      <td>Sur chaussée</td>\n      <td>0.0</td>\n    </tr>\n    <tr>\n      <th>201800000004</th>\n      <td>201800000004</td>\n      <td>Route Départementale</td>\n      <td>39</td>\n      <td>NaN</td>\n      <td>NaN</td>\n      <td>Bidirectionnelle</td>\n      <td>2.0</td>\n      <td>NaN</td>\n      <td>NaN</td>\n      <td>Aucune voie réservée</td>\n      <td>Plat</td>\n      <td>Partie rectiligne</td>\n      <td>NaN</td>\n      <td>NaN</td>\n      <td>Normale</td>\n      <td>0</td>\n      <td>Sur chaussée</td>\n      <td>0.0</td>\n    </tr>\n    <tr>\n      <th>201800000005</th>\n      <td>201800000005</td>\n      <td>Voie Communale</td>\n      <td>NaN</td>\n      <td>NaN</td>\n      <td>NaN</td>\n      <td>A sens unique</td>\n      <td>1.0</td>\n      <td>NaN</td>\n      <td>NaN</td>\n      <td>Aucune voie réservée</td>\n      <td>Plat</td>\n      <td>Partie rectiligne</td>\n      <td>NaN</td>\n      <td>NaN</td>\n      <td>Normale</td>\n      <td>0</td>\n      <td>Sur chaussée</td>\n      <td>0.0</td>\n    </tr>\n    <tr>\n      <th>...</th>\n      <td>...</td>\n      <td>...</td>\n      <td>...</td>\n      <td>...</td>\n      <td>...</td>\n      <td>...</td>\n      <td>...</td>\n      <td>...</td>\n      <td>...</td>\n      <td>...</td>\n      <td>...</td>\n      <td>...</td>\n      <td>...</td>\n      <td>...</td>\n      <td>...</td>\n      <td>...</td>\n      <td>...</td>\n      <td>...</td>\n    </tr>\n    <tr>\n      <th>201800057779</th>\n      <td>201800057779</td>\n      <td>Voie Communale</td>\n      <td>NaN</td>\n      <td>NaN</td>\n      <td>NaN</td>\n      <td>A sens unique</td>\n      <td>1.0</td>\n      <td>0.0</td>\n      <td>0.0</td>\n      <td>Aucune voie réservée</td>\n      <td>Plat</td>\n      <td>Partie rectiligne</td>\n      <td>NaN</td>\n      <td>NaN</td>\n      <td>Normale</td>\n      <td>0</td>\n      <td>Sur accotement</td>\n      <td>0.0</td>\n    </tr>\n    <tr>\n      <th>201800057780</th>\n      <td>201800057780</td>\n      <td>Route Nationale</td>\n      <td>2</td>\n      <td>NaN</td>\n      <td>NaN</td>\n      <td>0</td>\n      <td>2.0</td>\n      <td>0.0</td>\n      <td>0.0</td>\n      <td>Aucune voie réservée</td>\n      <td>Plat</td>\n      <td>Partie rectiligne</td>\n      <td>NaN</td>\n      <td>NaN</td>\n      <td>Normale</td>\n      <td>0</td>\n      <td>Sur accotement</td>\n      <td>0.0</td>\n    </tr>\n    <tr>\n      <th>201800057781</th>\n      <td>201800057781</td>\n      <td>Route Nationale</td>\n      <td>1</td>\n      <td>NaN</td>\n      <td>NaN</td>\n      <td>Bidirectionnelle</td>\n      <td>2.0</td>\n      <td>0.0</td>\n      <td>0.0</td>\n      <td>Aucune voie réservée</td>\n      <td>Plat</td>\n      <td>Partie rectiligne</td>\n      <td>NaN</td>\n      <td>NaN</td>\n      <td>Normale</td>\n      <td>0</td>\n      <td>Sur accotement</td>\n      <td>0.0</td>\n    </tr>\n    <tr>\n      <th>201800057782</th>\n      <td>201800057782</td>\n      <td>Voie Communale</td>\n      <td>NaN</td>\n      <td>NaN</td>\n      <td>NaN</td>\n      <td>0</td>\n      <td>2.0</td>\n      <td>0.0</td>\n      <td>0.0</td>\n      <td>Aucune voie réservée</td>\n      <td>Pente</td>\n      <td>En courbe à gauche</td>\n      <td>NaN</td>\n      <td>NaN</td>\n      <td>Normale</td>\n      <td>0</td>\n      <td>Sur accotement</td>\n      <td>0.0</td>\n    </tr>\n    <tr>\n      <th>201800057783</th>\n      <td>201800057783</td>\n      <td>Route Nationale</td>\n      <td>2</td>\n      <td>NaN</td>\n      <td>NaN</td>\n      <td>Bidirectionnelle</td>\n      <td>2.0</td>\n      <td>2.0</td>\n      <td>380.0</td>\n      <td>Aucune voie réservée</td>\n      <td>Plat</td>\n      <td>Partie rectiligne</td>\n      <td>NaN</td>\n      <td>NaN</td>\n      <td>Normale</td>\n      <td>0</td>\n      <td>Sur accotement</td>\n      <td>0.0</td>\n    </tr>\n  </tbody>\n</table>\n<p>57783 rows × 18 columns</p>\n</div>"
     },
     "metadata": {},
     "output_type": "execute_result",
     "execution_count": 3
    }
   ],
   "source": [
    "# Replacement Int Rubrique Lieux \n",
    "\n",
    "# Replacement catr (Categorie de route)\n",
    "def replace_catr(df):\n",
    "    df.catr = df.catr.replace(1, 'Autoroute').replace(2, 'Route Nationale').replace(3, 'Route Départementale').replace(4, 'Voie Communale').replace(5, 'Hors réseau public').replace(6, ' Parc de stationnement ouvert à la circulation publique').replace(9, 'Autre')\n",
    "    return df\n",
    "# Replacement circ (Régime de circulation)\n",
    "def replace_circ(df):\n",
    "    df.circ = df.circ.replace(1,'A sens unique').replace(2,'Bidirectionnelle').replace(3,'A chaussées séparées').replace(4,'Avec voies d’affectation variable')\n",
    "    return df\n",
    "# Replacement vosp (Existence d’une voie réservée)\n",
    "def replace_vosp(df):\n",
    "    df.vosp = df.vosp.replace(0,'Aucune voie réservée').replace(1,'Piste cyclable ').replace(2,'Banque cyclable').replace(3,'Voie réservée')\n",
    "    return df\n",
    "# Replacement prof (décrit la déclivité de la route à l'endroit de l'accident)\n",
    "def replace_prof(df):\n",
    "    df.prof = df.prof.replace(1,'Plat').replace(2,'Pente').replace(3,'Sommet de côte').replace(4,'Bas de côte')\n",
    "    return df\n",
    "# Replacement plan (Tracé en plan)\n",
    "def replace_plan(df):\n",
    "    df.plan = df.plan.replace(1,'Partie rectiligne').replace(2,'En courbe à gauche').replace(3,'En courbe à droite').replace(4,'En « S »')\n",
    "    return df\n",
    "# Replacement surf (Etat de la surface)\n",
    "def replace_surf(df):\n",
    "    df.surf = df.surf.replace(1,'Normale').replace(2,'Mouillée').replace(3,'Flaques').replace(4,'Inondée').replace(5,'Enneigée').replace(6,'Boue').replace(7,'Verglacée').replace(8,'Corps gras - Huile').replace(9,'Autre')\n",
    "    return df\n",
    "# Replacement infra (Aménagement - Infrastructure)\n",
    "def replace_infra(df):\n",
    "    df.infra = df.infra.replace(1,'Souterrain - tunnel').replace(2,'Pont - autopont').replace(3,'Bretelle d’échangeur ou de raccordement').replace(4,'Voie ferrée').replace(5,'Carrefour aménagé').replace(6,'Zone piétonne').replace(7,' Zone de péage')\n",
    "    return df\n",
    "# Replacement situ (Situation de l’accident :)\n",
    "def replace_situ(df):\n",
    "    df.situ = df.situ.replace(1,' Sur chaussée').replace(2,'Sur bande d’arrêt d’urgence ').replace(3,'Sur accotement').replace(4,'Sur trottoir').replace(5,'Sur piste cyclable')\n",
    "    return df\n",
    "\n",
    "DataAccident2018lieux = replace_catr(replace_circ(replace_infra(replace_plan(replace_prof(replace_situ(replace_surf(replace_surf(replace_vosp(DataAccident2018lieux)))))))))\n",
    "DataAccident2018lieux.rename(index=DataAccident2018lieux.Num_Acc)"
   ],
   "metadata": {
    "collapsed": false,
    "pycharm": {
     "name": "#%%\n",
     "is_executing": false
    }
   }
  },
  {
   "cell_type": "code",
   "execution_count": 4,
   "outputs": [
    {
     "name": "stdout",
     "text": [
      "[[0 0 0 list([5])]\n",
      " [0 0 0 list([1, 1])]\n",
      " [0 0 0 list([4, 7, 7])]\n",
      " ...\n",
      " [0 0 0 list([6, 1, 1])]\n",
      " [0 0 0 list([6, 1, 1])]\n",
      " [0 0 0 list([6, 1, 1])]]\n"
     ],
     "output_type": "stream"
    },
    {
     "data": {
      "text/plain": "                   Num_Acc                                lum  \\\n201800000001  201800000001                         Plein jour   \n201800000002  201800000002                         Plein jour   \n201800000003  201800000003                         Plein jour   \n201800000004  201800000004                         Plein jour   \n201800000005  201800000005                         Plein jour   \n...                    ...                                ...   \n201800057779  201800057779                         Plein jour   \n201800057780  201800057780                 Crépuscule ou aube   \n201800057781  201800057781  Nuit avec éclairage public allumé   \n201800057782  201800057782  Nuit avec éclairage public allumé   \n201800057783  201800057783                         Plein jour   \n\n                             agg                int                atm  \\\n201800000001  Hors agglomération  Intersection en Y            Normale   \n201800000002    En agglomération              Place  Temps éblouissant   \n201800000003    En agglomération  Intersection en T            Normale   \n201800000004    En agglomération  Hors Intersection  Temps éblouissant   \n201800000005    En agglomération  Hors Intersection            Normale   \n...                          ...                ...                ...   \n201800057779    En agglomération  Hors Intersection            Normale   \n201800057780    En agglomération  Hors Intersection            Normale   \n201800057781    En agglomération  Hors Intersection            Normale   \n201800057782    En agglomération  Hors Intersection            Normale   \n201800057783    En agglomération  Hors Intersection            Normale   \n\n                                       col  com                       adr  \\\n201800000001     Deux véhicules - frontale    5    ROUTE DES ANSEREUILLES   \n201800000002                             7   11  PLACE DU GÉNÉRAL DE GAUL   \n201800000003                             7  477            RUE  NATIONALE   \n201800000004  Deux véhicules – par le coté   52       30 RUE JULES GUESDE   \n201800000005  Deux véhicules – par le coté  477        72 RUE VICTOR HUGO   \n...                                    ...  ...                       ...   \n201800057779               Autre collision  611  PASSAMANTY-SADA ( RUE DE   \n201800057780  Deux véhicules – par le coté  611  MAMOUDZOU CENTRE-COMMAND   \n201800057781               Autre collision  611   KAWENI-SPPM ( RUE DE LA   \n201800057782     Deux véhicules - frontale  611   CAVANI-KAVANI SUD ( RUE   \n201800057783     Deux véhicules - frontale  611  M'TSAPERE-NATIONALE 2 (R   \n\n                    gps        lat  ...    pr1                  vosp   prof  \\\n201800000001  Métropole  5055737.0  ...    NaN  Aucune voie réservée   Plat   \n201800000002  Métropole  5052936.0  ...    NaN  Aucune voie réservée   Plat   \n201800000003  Métropole  5051243.0  ...    NaN  Aucune voie réservée   Plat   \n201800000004  Métropole  5051974.0  ...    NaN  Aucune voie réservée   Plat   \n201800000005  Métropole  5051607.0  ...    NaN  Aucune voie réservée   Plat   \n...                 ...        ...  ...    ...                   ...    ...   \n201800057779    Mayotte  1280217.0  ...    0.0  Aucune voie réservée   Plat   \n201800057780    Mayotte  1278120.0  ...    0.0  Aucune voie réservée   Plat   \n201800057781    Mayotte  1276930.0  ...    0.0  Aucune voie réservée   Plat   \n201800057782    Mayotte  1278622.0  ...    0.0  Aucune voie réservée  Pente   \n201800057783    Mayotte  1278943.0  ...  380.0  Aucune voie réservée   Plat   \n\n                            plan  lartpc larrout     surf  infra  \\\n201800000001  En courbe à droite     NaN     NaN  Normale      0   \n201800000002  En courbe à gauche     NaN     NaN  Normale      0   \n201800000003   Partie rectiligne     NaN     NaN  Normale      0   \n201800000004   Partie rectiligne     NaN     NaN  Normale      0   \n201800000005   Partie rectiligne     NaN     NaN  Normale      0   \n...                          ...     ...     ...      ...    ...   \n201800057779   Partie rectiligne     NaN     NaN  Normale      0   \n201800057780   Partie rectiligne     NaN     NaN  Normale      0   \n201800057781   Partie rectiligne     NaN     NaN  Normale      0   \n201800057782  En courbe à gauche     NaN     NaN  Normale      0   \n201800057783   Partie rectiligne     NaN     NaN  Normale      0   \n\n                        situ  env1  \n201800000001    Sur chaussée   0.0  \n201800000002    Sur chaussée   0.0  \n201800000003    Sur chaussée   0.0  \n201800000004    Sur chaussée   0.0  \n201800000005    Sur chaussée   0.0  \n...                      ...   ...  \n201800057779  Sur accotement   0.0  \n201800057780  Sur accotement   0.0  \n201800057781  Sur accotement   0.0  \n201800057782  Sur accotement   0.0  \n201800057783  Sur accotement   0.0  \n\n[57783 rows x 29 columns]",
      "text/html": "<div>\n<style scoped>\n    .dataframe tbody tr th:only-of-type {\n        vertical-align: middle;\n    }\n\n    .dataframe tbody tr th {\n        vertical-align: top;\n    }\n\n    .dataframe thead th {\n        text-align: right;\n    }\n</style>\n<table border=\"1\" class=\"dataframe\">\n  <thead>\n    <tr style=\"text-align: right;\">\n      <th></th>\n      <th>Num_Acc</th>\n      <th>lum</th>\n      <th>agg</th>\n      <th>int</th>\n      <th>atm</th>\n      <th>col</th>\n      <th>com</th>\n      <th>adr</th>\n      <th>gps</th>\n      <th>lat</th>\n      <th>...</th>\n      <th>pr1</th>\n      <th>vosp</th>\n      <th>prof</th>\n      <th>plan</th>\n      <th>lartpc</th>\n      <th>larrout</th>\n      <th>surf</th>\n      <th>infra</th>\n      <th>situ</th>\n      <th>env1</th>\n    </tr>\n  </thead>\n  <tbody>\n    <tr>\n      <th>201800000001</th>\n      <td>201800000001</td>\n      <td>Plein jour</td>\n      <td>Hors agglomération</td>\n      <td>Intersection en Y</td>\n      <td>Normale</td>\n      <td>Deux véhicules - frontale</td>\n      <td>5</td>\n      <td>ROUTE DES ANSEREUILLES</td>\n      <td>Métropole</td>\n      <td>5055737.0</td>\n      <td>...</td>\n      <td>NaN</td>\n      <td>Aucune voie réservée</td>\n      <td>Plat</td>\n      <td>En courbe à droite</td>\n      <td>NaN</td>\n      <td>NaN</td>\n      <td>Normale</td>\n      <td>0</td>\n      <td>Sur chaussée</td>\n      <td>0.0</td>\n    </tr>\n    <tr>\n      <th>201800000002</th>\n      <td>201800000002</td>\n      <td>Plein jour</td>\n      <td>En agglomération</td>\n      <td>Place</td>\n      <td>Temps éblouissant</td>\n      <td>7</td>\n      <td>11</td>\n      <td>PLACE DU GÉNÉRAL DE GAUL</td>\n      <td>Métropole</td>\n      <td>5052936.0</td>\n      <td>...</td>\n      <td>NaN</td>\n      <td>Aucune voie réservée</td>\n      <td>Plat</td>\n      <td>En courbe à gauche</td>\n      <td>NaN</td>\n      <td>NaN</td>\n      <td>Normale</td>\n      <td>0</td>\n      <td>Sur chaussée</td>\n      <td>0.0</td>\n    </tr>\n    <tr>\n      <th>201800000003</th>\n      <td>201800000003</td>\n      <td>Plein jour</td>\n      <td>En agglomération</td>\n      <td>Intersection en T</td>\n      <td>Normale</td>\n      <td>7</td>\n      <td>477</td>\n      <td>RUE  NATIONALE</td>\n      <td>Métropole</td>\n      <td>5051243.0</td>\n      <td>...</td>\n      <td>NaN</td>\n      <td>Aucune voie réservée</td>\n      <td>Plat</td>\n      <td>Partie rectiligne</td>\n      <td>NaN</td>\n      <td>NaN</td>\n      <td>Normale</td>\n      <td>0</td>\n      <td>Sur chaussée</td>\n      <td>0.0</td>\n    </tr>\n    <tr>\n      <th>201800000004</th>\n      <td>201800000004</td>\n      <td>Plein jour</td>\n      <td>En agglomération</td>\n      <td>Hors Intersection</td>\n      <td>Temps éblouissant</td>\n      <td>Deux véhicules – par le coté</td>\n      <td>52</td>\n      <td>30 RUE JULES GUESDE</td>\n      <td>Métropole</td>\n      <td>5051974.0</td>\n      <td>...</td>\n      <td>NaN</td>\n      <td>Aucune voie réservée</td>\n      <td>Plat</td>\n      <td>Partie rectiligne</td>\n      <td>NaN</td>\n      <td>NaN</td>\n      <td>Normale</td>\n      <td>0</td>\n      <td>Sur chaussée</td>\n      <td>0.0</td>\n    </tr>\n    <tr>\n      <th>201800000005</th>\n      <td>201800000005</td>\n      <td>Plein jour</td>\n      <td>En agglomération</td>\n      <td>Hors Intersection</td>\n      <td>Normale</td>\n      <td>Deux véhicules – par le coté</td>\n      <td>477</td>\n      <td>72 RUE VICTOR HUGO</td>\n      <td>Métropole</td>\n      <td>5051607.0</td>\n      <td>...</td>\n      <td>NaN</td>\n      <td>Aucune voie réservée</td>\n      <td>Plat</td>\n      <td>Partie rectiligne</td>\n      <td>NaN</td>\n      <td>NaN</td>\n      <td>Normale</td>\n      <td>0</td>\n      <td>Sur chaussée</td>\n      <td>0.0</td>\n    </tr>\n    <tr>\n      <th>...</th>\n      <td>...</td>\n      <td>...</td>\n      <td>...</td>\n      <td>...</td>\n      <td>...</td>\n      <td>...</td>\n      <td>...</td>\n      <td>...</td>\n      <td>...</td>\n      <td>...</td>\n      <td>...</td>\n      <td>...</td>\n      <td>...</td>\n      <td>...</td>\n      <td>...</td>\n      <td>...</td>\n      <td>...</td>\n      <td>...</td>\n      <td>...</td>\n      <td>...</td>\n      <td>...</td>\n    </tr>\n    <tr>\n      <th>201800057779</th>\n      <td>201800057779</td>\n      <td>Plein jour</td>\n      <td>En agglomération</td>\n      <td>Hors Intersection</td>\n      <td>Normale</td>\n      <td>Autre collision</td>\n      <td>611</td>\n      <td>PASSAMANTY-SADA ( RUE DE</td>\n      <td>Mayotte</td>\n      <td>1280217.0</td>\n      <td>...</td>\n      <td>0.0</td>\n      <td>Aucune voie réservée</td>\n      <td>Plat</td>\n      <td>Partie rectiligne</td>\n      <td>NaN</td>\n      <td>NaN</td>\n      <td>Normale</td>\n      <td>0</td>\n      <td>Sur accotement</td>\n      <td>0.0</td>\n    </tr>\n    <tr>\n      <th>201800057780</th>\n      <td>201800057780</td>\n      <td>Crépuscule ou aube</td>\n      <td>En agglomération</td>\n      <td>Hors Intersection</td>\n      <td>Normale</td>\n      <td>Deux véhicules – par le coté</td>\n      <td>611</td>\n      <td>MAMOUDZOU CENTRE-COMMAND</td>\n      <td>Mayotte</td>\n      <td>1278120.0</td>\n      <td>...</td>\n      <td>0.0</td>\n      <td>Aucune voie réservée</td>\n      <td>Plat</td>\n      <td>Partie rectiligne</td>\n      <td>NaN</td>\n      <td>NaN</td>\n      <td>Normale</td>\n      <td>0</td>\n      <td>Sur accotement</td>\n      <td>0.0</td>\n    </tr>\n    <tr>\n      <th>201800057781</th>\n      <td>201800057781</td>\n      <td>Nuit avec éclairage public allumé</td>\n      <td>En agglomération</td>\n      <td>Hors Intersection</td>\n      <td>Normale</td>\n      <td>Autre collision</td>\n      <td>611</td>\n      <td>KAWENI-SPPM ( RUE DE LA</td>\n      <td>Mayotte</td>\n      <td>1276930.0</td>\n      <td>...</td>\n      <td>0.0</td>\n      <td>Aucune voie réservée</td>\n      <td>Plat</td>\n      <td>Partie rectiligne</td>\n      <td>NaN</td>\n      <td>NaN</td>\n      <td>Normale</td>\n      <td>0</td>\n      <td>Sur accotement</td>\n      <td>0.0</td>\n    </tr>\n    <tr>\n      <th>201800057782</th>\n      <td>201800057782</td>\n      <td>Nuit avec éclairage public allumé</td>\n      <td>En agglomération</td>\n      <td>Hors Intersection</td>\n      <td>Normale</td>\n      <td>Deux véhicules - frontale</td>\n      <td>611</td>\n      <td>CAVANI-KAVANI SUD ( RUE</td>\n      <td>Mayotte</td>\n      <td>1278622.0</td>\n      <td>...</td>\n      <td>0.0</td>\n      <td>Aucune voie réservée</td>\n      <td>Pente</td>\n      <td>En courbe à gauche</td>\n      <td>NaN</td>\n      <td>NaN</td>\n      <td>Normale</td>\n      <td>0</td>\n      <td>Sur accotement</td>\n      <td>0.0</td>\n    </tr>\n    <tr>\n      <th>201800057783</th>\n      <td>201800057783</td>\n      <td>Plein jour</td>\n      <td>En agglomération</td>\n      <td>Hors Intersection</td>\n      <td>Normale</td>\n      <td>Deux véhicules - frontale</td>\n      <td>611</td>\n      <td>M'TSAPERE-NATIONALE 2 (R</td>\n      <td>Mayotte</td>\n      <td>1278943.0</td>\n      <td>...</td>\n      <td>380.0</td>\n      <td>Aucune voie réservée</td>\n      <td>Plat</td>\n      <td>Partie rectiligne</td>\n      <td>NaN</td>\n      <td>NaN</td>\n      <td>Normale</td>\n      <td>0</td>\n      <td>Sur accotement</td>\n      <td>0.0</td>\n    </tr>\n  </tbody>\n</table>\n<p>57783 rows × 29 columns</p>\n</div>"
     },
     "metadata": {},
     "output_type": "execute_result",
     "execution_count": 4
    }
   ],
   "source": [
    "DataAccident2018caracteristiques = pd.read_csv(\"données/2018/caracteristiques-2018.csv\",\",\",encoding='latin-1',low_memory=False)\n",
    "DataAccident2018caracteristiques.rename(columns={\"an\":\"annee\",\"com\":\"code_commune\"})\n",
    "# dfAccident2018caracteristiques['date'] = \"2\"+ str(dfAccident2018caracteristiques['an']) + '/'+str(dfAccident2018caracteristiques['mois'])+ \"/\" + str(dfAccident2018caracteristiques['jour'])\n",
    "DataAccident2018caracteristiques.date = datetime.datetime.now()\n",
    "# dfAccident2018caracteristiques.date.replace(year = dfAccident2018caracteristiques.an)\n",
    "\n",
    "\n",
    "def replace_intersection(df):\n",
    "    df.int = df.int.replace(1, 'Hors Intersection').replace(2, 'Intersection en X').replace(3, 'Intersection en T').replace(4, 'Intersection en Y').replace(5, 'Intersection à plus de 4 branches').replace(6, 'Giratoire').replace(7, 'Place').replace(8, 'Passsage à niveau').replace(9, 'Autre intersection')\n",
    "    return df\n",
    "\n",
    "def replace_conditions_atmo(df):\n",
    "    df.atm = df.atm.replace(1,'Normale').replace(2,'Pluie Légère').replace(3,'Pluie Forte').replace(4,'Neig - grêle').replace(5,'Bouillard - Fumée').replace(6,'Vent fort - Tempête').replace(7,'Temps éblouissant').replace(8,'Temps couvert').replace(9,'Autre')\n",
    "    return df\n",
    "\n",
    "def replace_collision(df):\n",
    "    df.col = df.col.replace(1,'Deux véhicules - frontale').replace(2,'Deux véhicules – par l’arrière').replace(3,'Deux véhicules – par le coté').replace(4,'Trois véhicules et plus – en chaîne').replace(5,'Trois véhicule et plus - collisions multiples').replace(6,'Autre collision').replace(6,'Sans collision')\n",
    "    return df\n",
    "\n",
    "def replace_gps(df):\n",
    "    df.gps  = df.gps.replace('M','Métropole').replace('A','Antilles').replace('G','Guyane').replace('R','Réunion').replace('Y','Mayotte')\n",
    "    return df\n",
    "\n",
    "def replace_adr(df):\n",
    "    df.adr = [str(x).upper() for x in df.adr]\n",
    "    return df\n",
    "\n",
    "def replace_lum(df):\n",
    "    df.lum  = df.lum.replace(1,'Plein jour').replace(2,'Crépuscule ou aube').replace(3,'Nuit sans éclairage public').replace(4,'Nuit avec éclairage public non allumé').replace(5,'Nuit avec éclairage public allumé')\n",
    "    return df\n",
    "\n",
    "def gen_date(df):\n",
    "    df.date = [datetime.datetime(df.an.iloc[i],df.mois.iloc[i],df.jour.iloc[i]) for i in range(len(df.an))]\n",
    "    return df\n",
    "\n",
    "def replace_agglo(df):\n",
    "    df['agg'] = df['agg'].replace(1,'Hors agglomération').replace(2,'En agglomération')\n",
    "    return df\n",
    "\n",
    "def replace_com(df):\n",
    "    list_zeros = np.array([np.zeros(3,dtype='int') for x in df.com])\n",
    "    list_com = np.array([[int(i) for i in str(x)] for x in df.com])\n",
    "    c = np.c_[list_zeros,list_com]\n",
    "    print(c)\n",
    "\n",
    "DataAccident2018caracteristiques = replace_agglo(replace_lum(gen_date(replace_adr(replace_gps(replace_intersection(replace_conditions_atmo(replace_collision(DataAccident2018caracteristiques))))))))\n",
    "# print(dfAccident2018caracteristiques.agg)\n",
    "DataAccident2018caracteristiques = DataAccident2018caracteristiques.drop(columns=['mois','jour','hrmn','an'])\n",
    "replace_com(DataAccident2018caracteristiques)\n",
    "DataAccident2018caracteristiques.rename(index=DataAccident2018caracteristiques.Num_Acc)\n",
    "\n",
    "dataAccident2018 = pd.merge(DataAccident2018caracteristiques, DataAccident2018lieux, on='Num_Acc',how='inner')\n",
    "dataAccident2018.rename(index=dataAccident2018.Num_Acc)"
   ],
   "metadata": {
    "collapsed": false,
    "pycharm": {
     "name": "#%%\n",
     "is_executing": false
    }
   }
  },
  {
   "cell_type": "code",
   "execution_count": 5,
   "outputs": [
    {
     "traceback": [
      "\u001b[1;31m---------------------------------------------------------------------------\u001b[0m",
      "\u001b[1;31mMemoryError\u001b[0m                               Traceback (most recent call last)",
      "\u001b[1;32m<ipython-input-5-4b8e3a7f6d7a>\u001b[0m in \u001b[0;36m<module>\u001b[1;34m\u001b[0m\n\u001b[0;32m      4\u001b[0m \u001b[0mDataAccident2018usagers\u001b[0m\u001b[1;33m.\u001b[0m\u001b[0mrename\u001b[0m\u001b[1;33m(\u001b[0m\u001b[0mcolumns\u001b[0m\u001b[1;33m=\u001b[0m\u001b[1;33m{\u001b[0m\u001b[1;34m\"num-veh\"\u001b[0m\u001b[1;33m:\u001b[0m\u001b[1;34m\"Num-Usager\"\u001b[0m\u001b[1;33m}\u001b[0m\u001b[1;33m)\u001b[0m\u001b[1;33m\u001b[0m\u001b[1;33m\u001b[0m\u001b[0m\n\u001b[0;32m      5\u001b[0m \u001b[1;33m\u001b[0m\u001b[0m\n\u001b[1;32m----> 6\u001b[1;33m \u001b[0mdataAccidentvu2018\u001b[0m \u001b[1;33m=\u001b[0m \u001b[0mpd\u001b[0m\u001b[1;33m.\u001b[0m\u001b[0mmerge\u001b[0m\u001b[1;33m(\u001b[0m\u001b[0mDataAccident2018vehicules\u001b[0m\u001b[1;33m,\u001b[0m \u001b[0mDataAccident2018usagers\u001b[0m\u001b[1;33m,\u001b[0m\u001b[0mleft_on\u001b[0m\u001b[1;33m=\u001b[0m\u001b[1;34m'num_veh'\u001b[0m\u001b[1;33m,\u001b[0m \u001b[0mright_on\u001b[0m\u001b[1;33m=\u001b[0m\u001b[1;34m'num_veh'\u001b[0m\u001b[1;33m)\u001b[0m\u001b[1;33m\u001b[0m\u001b[1;33m\u001b[0m\u001b[0m\n\u001b[0m\u001b[0;32m      7\u001b[0m \u001b[0mdataAccidentvu2018\u001b[0m\u001b[1;33m.\u001b[0m\u001b[0mrename\u001b[0m\u001b[1;33m(\u001b[0m\u001b[0mindex\u001b[0m\u001b[1;33m=\u001b[0m\u001b[0mDataAccident2018vehicules\u001b[0m\u001b[1;33m.\u001b[0m\u001b[0mNum_Acc\u001b[0m\u001b[1;33m)\u001b[0m\u001b[1;33m\u001b[0m\u001b[1;33m\u001b[0m\u001b[0m\n\u001b[0;32m      8\u001b[0m \u001b[1;33m\u001b[0m\u001b[0m\n",
      "\u001b[1;32mD:\\Users\\Admin\\anaconda3\\envs\\Controle_DataScientist\\lib\\site-packages\\pandas\\core\\reshape\\merge.py\u001b[0m in \u001b[0;36mmerge\u001b[1;34m(left, right, how, on, left_on, right_on, left_index, right_index, sort, suffixes, copy, indicator, validate)\u001b[0m\n\u001b[0;32m     86\u001b[0m         \u001b[0mvalidate\u001b[0m\u001b[1;33m=\u001b[0m\u001b[0mvalidate\u001b[0m\u001b[1;33m,\u001b[0m\u001b[1;33m\u001b[0m\u001b[1;33m\u001b[0m\u001b[0m\n\u001b[0;32m     87\u001b[0m     )\n\u001b[1;32m---> 88\u001b[1;33m     \u001b[1;32mreturn\u001b[0m \u001b[0mop\u001b[0m\u001b[1;33m.\u001b[0m\u001b[0mget_result\u001b[0m\u001b[1;33m(\u001b[0m\u001b[1;33m)\u001b[0m\u001b[1;33m\u001b[0m\u001b[1;33m\u001b[0m\u001b[0m\n\u001b[0m\u001b[0;32m     89\u001b[0m \u001b[1;33m\u001b[0m\u001b[0m\n\u001b[0;32m     90\u001b[0m \u001b[1;33m\u001b[0m\u001b[0m\n",
      "\u001b[1;32mD:\\Users\\Admin\\anaconda3\\envs\\Controle_DataScientist\\lib\\site-packages\\pandas\\core\\reshape\\merge.py\u001b[0m in \u001b[0;36mget_result\u001b[1;34m(self)\u001b[0m\n\u001b[0;32m    641\u001b[0m             \u001b[0mself\u001b[0m\u001b[1;33m.\u001b[0m\u001b[0mleft\u001b[0m\u001b[1;33m,\u001b[0m \u001b[0mself\u001b[0m\u001b[1;33m.\u001b[0m\u001b[0mright\u001b[0m \u001b[1;33m=\u001b[0m \u001b[0mself\u001b[0m\u001b[1;33m.\u001b[0m\u001b[0m_indicator_pre_merge\u001b[0m\u001b[1;33m(\u001b[0m\u001b[0mself\u001b[0m\u001b[1;33m.\u001b[0m\u001b[0mleft\u001b[0m\u001b[1;33m,\u001b[0m \u001b[0mself\u001b[0m\u001b[1;33m.\u001b[0m\u001b[0mright\u001b[0m\u001b[1;33m)\u001b[0m\u001b[1;33m\u001b[0m\u001b[1;33m\u001b[0m\u001b[0m\n\u001b[0;32m    642\u001b[0m \u001b[1;33m\u001b[0m\u001b[0m\n\u001b[1;32m--> 643\u001b[1;33m         \u001b[0mjoin_index\u001b[0m\u001b[1;33m,\u001b[0m \u001b[0mleft_indexer\u001b[0m\u001b[1;33m,\u001b[0m \u001b[0mright_indexer\u001b[0m \u001b[1;33m=\u001b[0m \u001b[0mself\u001b[0m\u001b[1;33m.\u001b[0m\u001b[0m_get_join_info\u001b[0m\u001b[1;33m(\u001b[0m\u001b[1;33m)\u001b[0m\u001b[1;33m\u001b[0m\u001b[1;33m\u001b[0m\u001b[0m\n\u001b[0m\u001b[0;32m    644\u001b[0m \u001b[1;33m\u001b[0m\u001b[0m\n\u001b[0;32m    645\u001b[0m         \u001b[0mldata\u001b[0m\u001b[1;33m,\u001b[0m \u001b[0mrdata\u001b[0m \u001b[1;33m=\u001b[0m \u001b[0mself\u001b[0m\u001b[1;33m.\u001b[0m\u001b[0mleft\u001b[0m\u001b[1;33m.\u001b[0m\u001b[0m_data\u001b[0m\u001b[1;33m,\u001b[0m \u001b[0mself\u001b[0m\u001b[1;33m.\u001b[0m\u001b[0mright\u001b[0m\u001b[1;33m.\u001b[0m\u001b[0m_data\u001b[0m\u001b[1;33m\u001b[0m\u001b[1;33m\u001b[0m\u001b[0m\n",
      "\u001b[1;32mD:\\Users\\Admin\\anaconda3\\envs\\Controle_DataScientist\\lib\\site-packages\\pandas\\core\\reshape\\merge.py\u001b[0m in \u001b[0;36m_get_join_info\u001b[1;34m(self)\u001b[0m\n\u001b[0;32m    860\u001b[0m             )\n\u001b[0;32m    861\u001b[0m         \u001b[1;32melse\u001b[0m\u001b[1;33m:\u001b[0m\u001b[1;33m\u001b[0m\u001b[1;33m\u001b[0m\u001b[0m\n\u001b[1;32m--> 862\u001b[1;33m             \u001b[1;33m(\u001b[0m\u001b[0mleft_indexer\u001b[0m\u001b[1;33m,\u001b[0m \u001b[0mright_indexer\u001b[0m\u001b[1;33m)\u001b[0m \u001b[1;33m=\u001b[0m \u001b[0mself\u001b[0m\u001b[1;33m.\u001b[0m\u001b[0m_get_join_indexers\u001b[0m\u001b[1;33m(\u001b[0m\u001b[1;33m)\u001b[0m\u001b[1;33m\u001b[0m\u001b[1;33m\u001b[0m\u001b[0m\n\u001b[0m\u001b[0;32m    863\u001b[0m \u001b[1;33m\u001b[0m\u001b[0m\n\u001b[0;32m    864\u001b[0m             \u001b[1;32mif\u001b[0m \u001b[0mself\u001b[0m\u001b[1;33m.\u001b[0m\u001b[0mright_index\u001b[0m\u001b[1;33m:\u001b[0m\u001b[1;33m\u001b[0m\u001b[1;33m\u001b[0m\u001b[0m\n",
      "\u001b[1;32mD:\\Users\\Admin\\anaconda3\\envs\\Controle_DataScientist\\lib\\site-packages\\pandas\\core\\reshape\\merge.py\u001b[0m in \u001b[0;36m_get_join_indexers\u001b[1;34m(self)\u001b[0m\n\u001b[0;32m    839\u001b[0m         \u001b[1;34m\"\"\" return the join indexers \"\"\"\u001b[0m\u001b[1;33m\u001b[0m\u001b[1;33m\u001b[0m\u001b[0m\n\u001b[0;32m    840\u001b[0m         return _get_join_indexers(\n\u001b[1;32m--> 841\u001b[1;33m             \u001b[0mself\u001b[0m\u001b[1;33m.\u001b[0m\u001b[0mleft_join_keys\u001b[0m\u001b[1;33m,\u001b[0m \u001b[0mself\u001b[0m\u001b[1;33m.\u001b[0m\u001b[0mright_join_keys\u001b[0m\u001b[1;33m,\u001b[0m \u001b[0msort\u001b[0m\u001b[1;33m=\u001b[0m\u001b[0mself\u001b[0m\u001b[1;33m.\u001b[0m\u001b[0msort\u001b[0m\u001b[1;33m,\u001b[0m \u001b[0mhow\u001b[0m\u001b[1;33m=\u001b[0m\u001b[0mself\u001b[0m\u001b[1;33m.\u001b[0m\u001b[0mhow\u001b[0m\u001b[1;33m\u001b[0m\u001b[1;33m\u001b[0m\u001b[0m\n\u001b[0m\u001b[0;32m    842\u001b[0m         )\n\u001b[0;32m    843\u001b[0m \u001b[1;33m\u001b[0m\u001b[0m\n",
      "\u001b[1;32mD:\\Users\\Admin\\anaconda3\\envs\\Controle_DataScientist\\lib\\site-packages\\pandas\\core\\reshape\\merge.py\u001b[0m in \u001b[0;36m_get_join_indexers\u001b[1;34m(left_keys, right_keys, sort, how, **kwargs)\u001b[0m\n\u001b[0;32m   1326\u001b[0m     \u001b[0mjoin_func\u001b[0m \u001b[1;33m=\u001b[0m \u001b[0m_join_functions\u001b[0m\u001b[1;33m[\u001b[0m\u001b[0mhow\u001b[0m\u001b[1;33m]\u001b[0m\u001b[1;33m\u001b[0m\u001b[1;33m\u001b[0m\u001b[0m\n\u001b[0;32m   1327\u001b[0m \u001b[1;33m\u001b[0m\u001b[0m\n\u001b[1;32m-> 1328\u001b[1;33m     \u001b[1;32mreturn\u001b[0m \u001b[0mjoin_func\u001b[0m\u001b[1;33m(\u001b[0m\u001b[0mlkey\u001b[0m\u001b[1;33m,\u001b[0m \u001b[0mrkey\u001b[0m\u001b[1;33m,\u001b[0m \u001b[0mcount\u001b[0m\u001b[1;33m,\u001b[0m \u001b[1;33m**\u001b[0m\u001b[0mkwargs\u001b[0m\u001b[1;33m)\u001b[0m\u001b[1;33m\u001b[0m\u001b[1;33m\u001b[0m\u001b[0m\n\u001b[0m\u001b[0;32m   1329\u001b[0m \u001b[1;33m\u001b[0m\u001b[0m\n\u001b[0;32m   1330\u001b[0m \u001b[1;33m\u001b[0m\u001b[0m\n",
      "\u001b[1;32mpandas\\_libs\\join.pyx\u001b[0m in \u001b[0;36mpandas._libs.join.inner_join\u001b[1;34m()\u001b[0m\n",
      "\u001b[1;31mMemoryError\u001b[0m: Unable to allocate 44.7 GiB for an array with shape (6002708857,) and data type int64"
     ],
     "ename": "MemoryError",
     "evalue": "Unable to allocate 44.7 GiB for an array with shape (6002708857,) and data type int64",
     "output_type": "error"
    }
   ],
   "source": [
    "DataAccident2018vehicules = pd.read_csv(\"données/2018/vehicules-2018.csv\",\",\",encoding='latin-1', low_memory=False)\n",
    "DataAccident2018vehicules.rename(columns={\"num-veh\":\"Num-Vehicule\"})\n",
    "DataAccident2018usagers = pd.read_csv(\"données/2018/usagers-2018.csv\",\",\",encoding='latin-1', low_memory=False)\n",
    "DataAccident2018usagers.rename(columns={\"num-veh\":\"Num-Usager\"})\n",
    "\n",
    "dataAccidentvu2018 = pd.merge(DataAccident2018vehicules, DataAccident2018usagers,left_on='num_veh', right_on='num_veh')\n",
    "dataAccidentvu2018.rename(index=DataAccident2018vehicules.Num_Acc)\n"
   ],
   "metadata": {
    "collapsed": false,
    "pycharm": {
     "name": "#%%\n",
     "is_executing": false
    }
   }
  },
  {
   "cell_type": "code",
   "execution_count": null,
   "outputs": [],
   "source": [
    "datausagervoiture = pd.merge(DataAccident2017usagers,DataAccident2017vehicules, on='num_veh', how='inner')\n",
    "\n"
   ],
   "metadata": {
    "collapsed": false,
    "pycharm": {
     "name": "#%%\n",
     "is_executing": false
    }
   }
  },
  {
   "cell_type": "code",
   "execution_count": null,
   "outputs": [],
   "source": [
    "\n"
   ],
   "metadata": {
    "collapsed": false,
    "pycharm": {
     "name": "#%%\n",
     "is_executing": false
    }
   }
  },
  {
   "cell_type": "code",
   "execution_count": 29,
   "outputs": [
    {
     "traceback": [
      "\u001b[1;31m---------------------------------------------------------------------------\u001b[0m",
      "\u001b[1;31mMemoryError\u001b[0m                               Traceback (most recent call last)",
      "\u001b[1;32m<ipython-input-29-4b8e3a7f6d7a>\u001b[0m in \u001b[0;36m<module>\u001b[1;34m\u001b[0m\n\u001b[0;32m      4\u001b[0m \u001b[0mDataAccident2018usagers\u001b[0m\u001b[1;33m.\u001b[0m\u001b[0mrename\u001b[0m\u001b[1;33m(\u001b[0m\u001b[0mcolumns\u001b[0m\u001b[1;33m=\u001b[0m\u001b[1;33m{\u001b[0m\u001b[1;34m\"num-veh\"\u001b[0m\u001b[1;33m:\u001b[0m\u001b[1;34m\"Num-Usager\"\u001b[0m\u001b[1;33m}\u001b[0m\u001b[1;33m)\u001b[0m\u001b[1;33m\u001b[0m\u001b[1;33m\u001b[0m\u001b[0m\n\u001b[0;32m      5\u001b[0m \u001b[1;33m\u001b[0m\u001b[0m\n\u001b[1;32m----> 6\u001b[1;33m \u001b[0mdataAccidentvu2018\u001b[0m \u001b[1;33m=\u001b[0m \u001b[0mpd\u001b[0m\u001b[1;33m.\u001b[0m\u001b[0mmerge\u001b[0m\u001b[1;33m(\u001b[0m\u001b[0mDataAccident2018vehicules\u001b[0m\u001b[1;33m,\u001b[0m \u001b[0mDataAccident2018usagers\u001b[0m\u001b[1;33m,\u001b[0m\u001b[0mleft_on\u001b[0m\u001b[1;33m=\u001b[0m\u001b[1;34m'num_veh'\u001b[0m\u001b[1;33m,\u001b[0m \u001b[0mright_on\u001b[0m\u001b[1;33m=\u001b[0m\u001b[1;34m'num_veh'\u001b[0m\u001b[1;33m)\u001b[0m\u001b[1;33m\u001b[0m\u001b[1;33m\u001b[0m\u001b[0m\n\u001b[0m\u001b[0;32m      7\u001b[0m \u001b[0mdataAccidentvu2018\u001b[0m\u001b[1;33m.\u001b[0m\u001b[0mrename\u001b[0m\u001b[1;33m(\u001b[0m\u001b[0mindex\u001b[0m\u001b[1;33m=\u001b[0m\u001b[0mDataAccident2018vehicules\u001b[0m\u001b[1;33m.\u001b[0m\u001b[0mNum_Acc\u001b[0m\u001b[1;33m)\u001b[0m\u001b[1;33m\u001b[0m\u001b[1;33m\u001b[0m\u001b[0m\n\u001b[0;32m      8\u001b[0m \u001b[1;33m\u001b[0m\u001b[0m\n",
      "\u001b[1;32mD:\\Users\\Admin\\anaconda3\\envs\\Controle_DataScientist\\lib\\site-packages\\pandas\\core\\reshape\\merge.py\u001b[0m in \u001b[0;36mmerge\u001b[1;34m(left, right, how, on, left_on, right_on, left_index, right_index, sort, suffixes, copy, indicator, validate)\u001b[0m\n\u001b[0;32m     86\u001b[0m         \u001b[0mvalidate\u001b[0m\u001b[1;33m=\u001b[0m\u001b[0mvalidate\u001b[0m\u001b[1;33m,\u001b[0m\u001b[1;33m\u001b[0m\u001b[1;33m\u001b[0m\u001b[0m\n\u001b[0;32m     87\u001b[0m     )\n\u001b[1;32m---> 88\u001b[1;33m     \u001b[1;32mreturn\u001b[0m \u001b[0mop\u001b[0m\u001b[1;33m.\u001b[0m\u001b[0mget_result\u001b[0m\u001b[1;33m(\u001b[0m\u001b[1;33m)\u001b[0m\u001b[1;33m\u001b[0m\u001b[1;33m\u001b[0m\u001b[0m\n\u001b[0m\u001b[0;32m     89\u001b[0m \u001b[1;33m\u001b[0m\u001b[0m\n\u001b[0;32m     90\u001b[0m \u001b[1;33m\u001b[0m\u001b[0m\n",
      "\u001b[1;32mD:\\Users\\Admin\\anaconda3\\envs\\Controle_DataScientist\\lib\\site-packages\\pandas\\core\\reshape\\merge.py\u001b[0m in \u001b[0;36mget_result\u001b[1;34m(self)\u001b[0m\n\u001b[0;32m    641\u001b[0m             \u001b[0mself\u001b[0m\u001b[1;33m.\u001b[0m\u001b[0mleft\u001b[0m\u001b[1;33m,\u001b[0m \u001b[0mself\u001b[0m\u001b[1;33m.\u001b[0m\u001b[0mright\u001b[0m \u001b[1;33m=\u001b[0m \u001b[0mself\u001b[0m\u001b[1;33m.\u001b[0m\u001b[0m_indicator_pre_merge\u001b[0m\u001b[1;33m(\u001b[0m\u001b[0mself\u001b[0m\u001b[1;33m.\u001b[0m\u001b[0mleft\u001b[0m\u001b[1;33m,\u001b[0m \u001b[0mself\u001b[0m\u001b[1;33m.\u001b[0m\u001b[0mright\u001b[0m\u001b[1;33m)\u001b[0m\u001b[1;33m\u001b[0m\u001b[1;33m\u001b[0m\u001b[0m\n\u001b[0;32m    642\u001b[0m \u001b[1;33m\u001b[0m\u001b[0m\n\u001b[1;32m--> 643\u001b[1;33m         \u001b[0mjoin_index\u001b[0m\u001b[1;33m,\u001b[0m \u001b[0mleft_indexer\u001b[0m\u001b[1;33m,\u001b[0m \u001b[0mright_indexer\u001b[0m \u001b[1;33m=\u001b[0m \u001b[0mself\u001b[0m\u001b[1;33m.\u001b[0m\u001b[0m_get_join_info\u001b[0m\u001b[1;33m(\u001b[0m\u001b[1;33m)\u001b[0m\u001b[1;33m\u001b[0m\u001b[1;33m\u001b[0m\u001b[0m\n\u001b[0m\u001b[0;32m    644\u001b[0m \u001b[1;33m\u001b[0m\u001b[0m\n\u001b[0;32m    645\u001b[0m         \u001b[0mldata\u001b[0m\u001b[1;33m,\u001b[0m \u001b[0mrdata\u001b[0m \u001b[1;33m=\u001b[0m \u001b[0mself\u001b[0m\u001b[1;33m.\u001b[0m\u001b[0mleft\u001b[0m\u001b[1;33m.\u001b[0m\u001b[0m_data\u001b[0m\u001b[1;33m,\u001b[0m \u001b[0mself\u001b[0m\u001b[1;33m.\u001b[0m\u001b[0mright\u001b[0m\u001b[1;33m.\u001b[0m\u001b[0m_data\u001b[0m\u001b[1;33m\u001b[0m\u001b[1;33m\u001b[0m\u001b[0m\n",
      "\u001b[1;32mD:\\Users\\Admin\\anaconda3\\envs\\Controle_DataScientist\\lib\\site-packages\\pandas\\core\\reshape\\merge.py\u001b[0m in \u001b[0;36m_get_join_info\u001b[1;34m(self)\u001b[0m\n\u001b[0;32m    860\u001b[0m             )\n\u001b[0;32m    861\u001b[0m         \u001b[1;32melse\u001b[0m\u001b[1;33m:\u001b[0m\u001b[1;33m\u001b[0m\u001b[1;33m\u001b[0m\u001b[0m\n\u001b[1;32m--> 862\u001b[1;33m             \u001b[1;33m(\u001b[0m\u001b[0mleft_indexer\u001b[0m\u001b[1;33m,\u001b[0m \u001b[0mright_indexer\u001b[0m\u001b[1;33m)\u001b[0m \u001b[1;33m=\u001b[0m \u001b[0mself\u001b[0m\u001b[1;33m.\u001b[0m\u001b[0m_get_join_indexers\u001b[0m\u001b[1;33m(\u001b[0m\u001b[1;33m)\u001b[0m\u001b[1;33m\u001b[0m\u001b[1;33m\u001b[0m\u001b[0m\n\u001b[0m\u001b[0;32m    863\u001b[0m \u001b[1;33m\u001b[0m\u001b[0m\n\u001b[0;32m    864\u001b[0m             \u001b[1;32mif\u001b[0m \u001b[0mself\u001b[0m\u001b[1;33m.\u001b[0m\u001b[0mright_index\u001b[0m\u001b[1;33m:\u001b[0m\u001b[1;33m\u001b[0m\u001b[1;33m\u001b[0m\u001b[0m\n",
      "\u001b[1;32mD:\\Users\\Admin\\anaconda3\\envs\\Controle_DataScientist\\lib\\site-packages\\pandas\\core\\reshape\\merge.py\u001b[0m in \u001b[0;36m_get_join_indexers\u001b[1;34m(self)\u001b[0m\n\u001b[0;32m    839\u001b[0m         \u001b[1;34m\"\"\" return the join indexers \"\"\"\u001b[0m\u001b[1;33m\u001b[0m\u001b[1;33m\u001b[0m\u001b[0m\n\u001b[0;32m    840\u001b[0m         return _get_join_indexers(\n\u001b[1;32m--> 841\u001b[1;33m             \u001b[0mself\u001b[0m\u001b[1;33m.\u001b[0m\u001b[0mleft_join_keys\u001b[0m\u001b[1;33m,\u001b[0m \u001b[0mself\u001b[0m\u001b[1;33m.\u001b[0m\u001b[0mright_join_keys\u001b[0m\u001b[1;33m,\u001b[0m \u001b[0msort\u001b[0m\u001b[1;33m=\u001b[0m\u001b[0mself\u001b[0m\u001b[1;33m.\u001b[0m\u001b[0msort\u001b[0m\u001b[1;33m,\u001b[0m \u001b[0mhow\u001b[0m\u001b[1;33m=\u001b[0m\u001b[0mself\u001b[0m\u001b[1;33m.\u001b[0m\u001b[0mhow\u001b[0m\u001b[1;33m\u001b[0m\u001b[1;33m\u001b[0m\u001b[0m\n\u001b[0m\u001b[0;32m    842\u001b[0m         )\n\u001b[0;32m    843\u001b[0m \u001b[1;33m\u001b[0m\u001b[0m\n",
      "\u001b[1;32mD:\\Users\\Admin\\anaconda3\\envs\\Controle_DataScientist\\lib\\site-packages\\pandas\\core\\reshape\\merge.py\u001b[0m in \u001b[0;36m_get_join_indexers\u001b[1;34m(left_keys, right_keys, sort, how, **kwargs)\u001b[0m\n\u001b[0;32m   1326\u001b[0m     \u001b[0mjoin_func\u001b[0m \u001b[1;33m=\u001b[0m \u001b[0m_join_functions\u001b[0m\u001b[1;33m[\u001b[0m\u001b[0mhow\u001b[0m\u001b[1;33m]\u001b[0m\u001b[1;33m\u001b[0m\u001b[1;33m\u001b[0m\u001b[0m\n\u001b[0;32m   1327\u001b[0m \u001b[1;33m\u001b[0m\u001b[0m\n\u001b[1;32m-> 1328\u001b[1;33m     \u001b[1;32mreturn\u001b[0m \u001b[0mjoin_func\u001b[0m\u001b[1;33m(\u001b[0m\u001b[0mlkey\u001b[0m\u001b[1;33m,\u001b[0m \u001b[0mrkey\u001b[0m\u001b[1;33m,\u001b[0m \u001b[0mcount\u001b[0m\u001b[1;33m,\u001b[0m \u001b[1;33m**\u001b[0m\u001b[0mkwargs\u001b[0m\u001b[1;33m)\u001b[0m\u001b[1;33m\u001b[0m\u001b[1;33m\u001b[0m\u001b[0m\n\u001b[0m\u001b[0;32m   1329\u001b[0m \u001b[1;33m\u001b[0m\u001b[0m\n\u001b[0;32m   1330\u001b[0m \u001b[1;33m\u001b[0m\u001b[0m\n",
      "\u001b[1;32mpandas\\_libs\\join.pyx\u001b[0m in \u001b[0;36mpandas._libs.join.inner_join\u001b[1;34m()\u001b[0m\n",
      "\u001b[1;31mMemoryError\u001b[0m: Unable to allocate 44.7 GiB for an array with shape (6002708857,) and data type int64"
     ],
     "ename": "MemoryError",
     "evalue": "Unable to allocate 44.7 GiB for an array with shape (6002708857,) and data type int64",
     "output_type": "error"
    }
   ],
   "source": [
    "DataAccident2018vehicules = pd.read_csv(\"données/2018/vehicules-2018.csv\",\",\",encoding='latin-1', low_memory=False)\n",
    "DataAccident2018vehicules.rename(columns={\"num-veh\":\"Num-Vehicule\"})\n",
    "DataAccident2018usagers = pd.read_csv(\"données/2018/usagers-2018.csv\",\",\",encoding='latin-1', low_memory=False)\n",
    "DataAccident2018usagers.rename(columns={\"num-veh\":\"Num-Usager\"})\n",
    "\n",
    "dataAccidentvu2018 = pd.merge(DataAccident2018vehicules, DataAccident2018usagers,left_on='num_veh', right_on='num_veh')\n",
    "dataAccidentvu2018.rename(index=DataAccident2018vehicules.Num_Acc)\n"
   ],
   "metadata": {
    "collapsed": false,
    "pycharm": {
     "name": "#%%\n",
     "is_executing": false
    }
   }
  },
  {
   "cell_type": "code",
   "execution_count": null,
   "outputs": [],
   "source": [
    "datausagervoiture = pd.merge(DataAccident2017usagers,DataAccident2017vehicules, on='num_veh', how='inner')\n",
    "\n"
   ],
   "metadata": {
    "collapsed": false,
    "pycharm": {
     "name": "#%%\n",
     "is_executing": false
    }
   }
  },
  {
   "cell_type": "code",
   "execution_count": null,
   "outputs": [],
   "source": [
    "\n"
   ],
   "metadata": {
    "collapsed": false,
    "pycharm": {
     "name": "#%%\n",
     "is_executing": false
    }
   }
  }
 ],
 "metadata": {
  "kernelspec": {
   "name": "pycharm-40e4d4ed",
   "language": "python",
   "display_name": "PyCharm (Controle_DataScientist)"
  },
  "language_info": {
   "codemirror_mode": {
    "name": "ipython",
    "version": 2
   },
   "file_extension": ".py",
   "mimetype": "text/x-python",
   "name": "python",
   "nbconvert_exporter": "python",
   "pygments_lexer": "ipython2",
   "version": "2.7.6"
  },
  "pycharm": {
   "stem_cell": {
    "cell_type": "raw",
    "source": [],
    "metadata": {
     "collapsed": false
    }
   }
  }
 },
 "nbformat": 4,
 "nbformat_minor": 0
}