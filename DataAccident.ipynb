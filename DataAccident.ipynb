{
 "cells": [
  {
   "cell_type": "code",
   "execution_count": 2,
   "outputs": [
    {
     "name": "stderr",
     "text": [
      "D:\\Users\\Admin\\anaconda3\\envs\\Controle_DataScientist\\lib\\site-packages\\IPython\\core\\interactiveshell.py:3063: DtypeWarning: Columns (2) have mixed types.Specify dtype option on import or set low_memory=False.\n",
      "  interactivity=interactivity, compiler=compiler, result=result)\n"
     ],
     "output_type": "stream"
    },
    {
     "data": {
      "text/plain": "        Num_Acc  catr voie  v1   v2  circ  nbv    pr    pr1  vosp  prof  plan  \\\n0  201800000001     3   41 NaN    C   2.0  2.0   NaN    NaN   0.0   1.0   3.0   \n1  201800000002     4   41 NaN    D   2.0  2.0   NaN    NaN   0.0   1.0   2.0   \n2  201800000003     3   39 NaN    D   2.0  2.0   NaN    NaN   0.0   1.0   1.0   \n3  201800000004     3   39 NaN  NaN   2.0  2.0   NaN    NaN   0.0   1.0   1.0   \n4  201800000005     4  NaN NaN  NaN   1.0  1.0   NaN    NaN   0.0   1.0   1.0   \n5  201800000006     3   39 NaN    D   0.0  2.0   NaN    NaN   0.0   2.0   2.0   \n6  201800000007     3   41 NaN    D   2.0  2.0  16.0  500.0   0.0   1.0   1.0   \n7  201800000008     4    - NaN  NaN   2.0  2.0   NaN    NaN   0.0   1.0   1.0   \n8  201800000009     3  141 NaN    D   2.0  2.0   NaN    NaN   0.0   1.0   1.0   \n9  201800000010     3  641 NaN  NaN   2.0  2.0   1.0  670.0   2.0   1.0   1.0   \n\n   lartpc  larrout  surf  infra  situ  env1  \n0     NaN      NaN   1.0    0.0   1.0   0.0  \n1     NaN      NaN   1.0    0.0   1.0   0.0  \n2     NaN      NaN   1.0    0.0   1.0   0.0  \n3     NaN      NaN   1.0    0.0   1.0   0.0  \n4     NaN      NaN   1.0    0.0   1.0   0.0  \n5     NaN      NaN   2.0    0.0   3.0   0.0  \n6     NaN      NaN   1.0    0.0   3.0   0.0  \n7     NaN      NaN   1.0    0.0   1.0   0.0  \n8     NaN      NaN   1.0    0.0   3.0   0.0  \n9     NaN      NaN   1.0    0.0   1.0   0.0  ",
      "text/html": "<div>\n<style scoped>\n    .dataframe tbody tr th:only-of-type {\n        vertical-align: middle;\n    }\n\n    .dataframe tbody tr th {\n        vertical-align: top;\n    }\n\n    .dataframe thead th {\n        text-align: right;\n    }\n</style>\n<table border=\"1\" class=\"dataframe\">\n  <thead>\n    <tr style=\"text-align: right;\">\n      <th></th>\n      <th>Num_Acc</th>\n      <th>catr</th>\n      <th>voie</th>\n      <th>v1</th>\n      <th>v2</th>\n      <th>circ</th>\n      <th>nbv</th>\n      <th>pr</th>\n      <th>pr1</th>\n      <th>vosp</th>\n      <th>prof</th>\n      <th>plan</th>\n      <th>lartpc</th>\n      <th>larrout</th>\n      <th>surf</th>\n      <th>infra</th>\n      <th>situ</th>\n      <th>env1</th>\n    </tr>\n  </thead>\n  <tbody>\n    <tr>\n      <th>0</th>\n      <td>201800000001</td>\n      <td>3</td>\n      <td>41</td>\n      <td>NaN</td>\n      <td>C</td>\n      <td>2.0</td>\n      <td>2.0</td>\n      <td>NaN</td>\n      <td>NaN</td>\n      <td>0.0</td>\n      <td>1.0</td>\n      <td>3.0</td>\n      <td>NaN</td>\n      <td>NaN</td>\n      <td>1.0</td>\n      <td>0.0</td>\n      <td>1.0</td>\n      <td>0.0</td>\n    </tr>\n    <tr>\n      <th>1</th>\n      <td>201800000002</td>\n      <td>4</td>\n      <td>41</td>\n      <td>NaN</td>\n      <td>D</td>\n      <td>2.0</td>\n      <td>2.0</td>\n      <td>NaN</td>\n      <td>NaN</td>\n      <td>0.0</td>\n      <td>1.0</td>\n      <td>2.0</td>\n      <td>NaN</td>\n      <td>NaN</td>\n      <td>1.0</td>\n      <td>0.0</td>\n      <td>1.0</td>\n      <td>0.0</td>\n    </tr>\n    <tr>\n      <th>2</th>\n      <td>201800000003</td>\n      <td>3</td>\n      <td>39</td>\n      <td>NaN</td>\n      <td>D</td>\n      <td>2.0</td>\n      <td>2.0</td>\n      <td>NaN</td>\n      <td>NaN</td>\n      <td>0.0</td>\n      <td>1.0</td>\n      <td>1.0</td>\n      <td>NaN</td>\n      <td>NaN</td>\n      <td>1.0</td>\n      <td>0.0</td>\n      <td>1.0</td>\n      <td>0.0</td>\n    </tr>\n    <tr>\n      <th>3</th>\n      <td>201800000004</td>\n      <td>3</td>\n      <td>39</td>\n      <td>NaN</td>\n      <td>NaN</td>\n      <td>2.0</td>\n      <td>2.0</td>\n      <td>NaN</td>\n      <td>NaN</td>\n      <td>0.0</td>\n      <td>1.0</td>\n      <td>1.0</td>\n      <td>NaN</td>\n      <td>NaN</td>\n      <td>1.0</td>\n      <td>0.0</td>\n      <td>1.0</td>\n      <td>0.0</td>\n    </tr>\n    <tr>\n      <th>4</th>\n      <td>201800000005</td>\n      <td>4</td>\n      <td>NaN</td>\n      <td>NaN</td>\n      <td>NaN</td>\n      <td>1.0</td>\n      <td>1.0</td>\n      <td>NaN</td>\n      <td>NaN</td>\n      <td>0.0</td>\n      <td>1.0</td>\n      <td>1.0</td>\n      <td>NaN</td>\n      <td>NaN</td>\n      <td>1.0</td>\n      <td>0.0</td>\n      <td>1.0</td>\n      <td>0.0</td>\n    </tr>\n    <tr>\n      <th>5</th>\n      <td>201800000006</td>\n      <td>3</td>\n      <td>39</td>\n      <td>NaN</td>\n      <td>D</td>\n      <td>0.0</td>\n      <td>2.0</td>\n      <td>NaN</td>\n      <td>NaN</td>\n      <td>0.0</td>\n      <td>2.0</td>\n      <td>2.0</td>\n      <td>NaN</td>\n      <td>NaN</td>\n      <td>2.0</td>\n      <td>0.0</td>\n      <td>3.0</td>\n      <td>0.0</td>\n    </tr>\n    <tr>\n      <th>6</th>\n      <td>201800000007</td>\n      <td>3</td>\n      <td>41</td>\n      <td>NaN</td>\n      <td>D</td>\n      <td>2.0</td>\n      <td>2.0</td>\n      <td>16.0</td>\n      <td>500.0</td>\n      <td>0.0</td>\n      <td>1.0</td>\n      <td>1.0</td>\n      <td>NaN</td>\n      <td>NaN</td>\n      <td>1.0</td>\n      <td>0.0</td>\n      <td>3.0</td>\n      <td>0.0</td>\n    </tr>\n    <tr>\n      <th>7</th>\n      <td>201800000008</td>\n      <td>4</td>\n      <td>-</td>\n      <td>NaN</td>\n      <td>NaN</td>\n      <td>2.0</td>\n      <td>2.0</td>\n      <td>NaN</td>\n      <td>NaN</td>\n      <td>0.0</td>\n      <td>1.0</td>\n      <td>1.0</td>\n      <td>NaN</td>\n      <td>NaN</td>\n      <td>1.0</td>\n      <td>0.0</td>\n      <td>1.0</td>\n      <td>0.0</td>\n    </tr>\n    <tr>\n      <th>8</th>\n      <td>201800000009</td>\n      <td>3</td>\n      <td>141</td>\n      <td>NaN</td>\n      <td>D</td>\n      <td>2.0</td>\n      <td>2.0</td>\n      <td>NaN</td>\n      <td>NaN</td>\n      <td>0.0</td>\n      <td>1.0</td>\n      <td>1.0</td>\n      <td>NaN</td>\n      <td>NaN</td>\n      <td>1.0</td>\n      <td>0.0</td>\n      <td>3.0</td>\n      <td>0.0</td>\n    </tr>\n    <tr>\n      <th>9</th>\n      <td>201800000010</td>\n      <td>3</td>\n      <td>641</td>\n      <td>NaN</td>\n      <td>NaN</td>\n      <td>2.0</td>\n      <td>2.0</td>\n      <td>1.0</td>\n      <td>670.0</td>\n      <td>2.0</td>\n      <td>1.0</td>\n      <td>1.0</td>\n      <td>NaN</td>\n      <td>NaN</td>\n      <td>1.0</td>\n      <td>0.0</td>\n      <td>1.0</td>\n      <td>0.0</td>\n    </tr>\n  </tbody>\n</table>\n</div>"
     },
     "metadata": {},
     "output_type": "execute_result",
     "execution_count": 2
    }
   ],
   "source": [
    "import numpy as np\n",
    "import pandas as pd\n",
    "import matplotlib as plt\n",
    "data = pd.read_csv(\"données/2018/lieux-2018.csv\",\",\",encoding='latin-1')\n",
    "data = pd.DataFrame(data)\n",
    "data.head(10)\n"
   ],
   "metadata": {
    "collapsed": false,
    "pycharm": {
     "name": "#%%\n",
     "is_executing": false
    }
   }
  },
  {
   "cell_type": "code",
   "execution_count": 3,
   "outputs": [
    {
     "name": "stderr",
     "text": [
      "D:\\Users\\Admin\\anaconda3\\envs\\Controle_DataScientist\\lib\\site-packages\\IPython\\core\\interactiveshell.py:3063: DtypeWarning: Columns (2) have mixed types.Specify dtype option on import or set low_memory=False.\n",
      "  interactivity=interactivity, compiler=compiler, result=result)\n"
     ],
     "output_type": "stream"
    },
    {
     "data": {
      "text/plain": "        Num_Acc  catr voie  v1 v2  circ  nbv  pr  pr1  vosp  ...  agg  int  \\\n0  201800000001     3   41 NaN  C   2.0  2.0 NaN  NaN   0.0  ...    1    4   \n1  201800000001     3   41 NaN  C   2.0  2.0 NaN  NaN   0.0  ...    1    4   \n2  201800000001     3   41 NaN  C   2.0  2.0 NaN  NaN   0.0  ...    1    4   \n3  201800000001     3   41 NaN  C   2.0  2.0 NaN  NaN   0.0  ...    1    4   \n4  201800000002     4   41 NaN  D   2.0  2.0 NaN  NaN   0.0  ...    2    7   \n5  201800000002     4   41 NaN  D   2.0  2.0 NaN  NaN   0.0  ...    2    7   \n6  201800000003     3   39 NaN  D   2.0  2.0 NaN  NaN   0.0  ...    2    3   \n7  201800000003     3   39 NaN  D   2.0  2.0 NaN  NaN   0.0  ...    2    3   \n8  201800000003     3   39 NaN  D   2.0  2.0 NaN  NaN   0.0  ...    2    3   \n9  201800000003     3   39 NaN  D   2.0  2.0 NaN  NaN   0.0  ...    2    3   \n\n   atm  col  com                       adr  gps        lat      long  dep  \n0  1.0  1.0    5    route des Ansereuilles    M  5055737.0  294992.0  590  \n1  1.0  1.0    5    route des Ansereuilles    M  5055737.0  294992.0  590  \n2  1.0  1.0    5    route des Ansereuilles    M  5055737.0  294992.0  590  \n3  1.0  1.0    5    route des Ansereuilles    M  5055737.0  294992.0  590  \n4  7.0  7.0   11  Place du général de Gaul    M  5052936.0  293151.0  590  \n5  7.0  7.0   11  Place du général de Gaul    M  5052936.0  293151.0  590  \n6  1.0  7.0  477            Rue  nationale    M  5051243.0  291714.0  590  \n7  1.0  7.0  477            Rue  nationale    M  5051243.0  291714.0  590  \n8  1.0  7.0  477            Rue  nationale    M  5051243.0  291714.0  590  \n9  1.0  7.0  477            Rue  nationale    M  5051243.0  291714.0  590  \n\n[10 rows x 52 columns]",
      "text/html": "<div>\n<style scoped>\n    .dataframe tbody tr th:only-of-type {\n        vertical-align: middle;\n    }\n\n    .dataframe tbody tr th {\n        vertical-align: top;\n    }\n\n    .dataframe thead th {\n        text-align: right;\n    }\n</style>\n<table border=\"1\" class=\"dataframe\">\n  <thead>\n    <tr style=\"text-align: right;\">\n      <th></th>\n      <th>Num_Acc</th>\n      <th>catr</th>\n      <th>voie</th>\n      <th>v1</th>\n      <th>v2</th>\n      <th>circ</th>\n      <th>nbv</th>\n      <th>pr</th>\n      <th>pr1</th>\n      <th>vosp</th>\n      <th>...</th>\n      <th>agg</th>\n      <th>int</th>\n      <th>atm</th>\n      <th>col</th>\n      <th>com</th>\n      <th>adr</th>\n      <th>gps</th>\n      <th>lat</th>\n      <th>long</th>\n      <th>dep</th>\n    </tr>\n  </thead>\n  <tbody>\n    <tr>\n      <th>0</th>\n      <td>201800000001</td>\n      <td>3</td>\n      <td>41</td>\n      <td>NaN</td>\n      <td>C</td>\n      <td>2.0</td>\n      <td>2.0</td>\n      <td>NaN</td>\n      <td>NaN</td>\n      <td>0.0</td>\n      <td>...</td>\n      <td>1</td>\n      <td>4</td>\n      <td>1.0</td>\n      <td>1.0</td>\n      <td>5</td>\n      <td>route des Ansereuilles</td>\n      <td>M</td>\n      <td>5055737.0</td>\n      <td>294992.0</td>\n      <td>590</td>\n    </tr>\n    <tr>\n      <th>1</th>\n      <td>201800000001</td>\n      <td>3</td>\n      <td>41</td>\n      <td>NaN</td>\n      <td>C</td>\n      <td>2.0</td>\n      <td>2.0</td>\n      <td>NaN</td>\n      <td>NaN</td>\n      <td>0.0</td>\n      <td>...</td>\n      <td>1</td>\n      <td>4</td>\n      <td>1.0</td>\n      <td>1.0</td>\n      <td>5</td>\n      <td>route des Ansereuilles</td>\n      <td>M</td>\n      <td>5055737.0</td>\n      <td>294992.0</td>\n      <td>590</td>\n    </tr>\n    <tr>\n      <th>2</th>\n      <td>201800000001</td>\n      <td>3</td>\n      <td>41</td>\n      <td>NaN</td>\n      <td>C</td>\n      <td>2.0</td>\n      <td>2.0</td>\n      <td>NaN</td>\n      <td>NaN</td>\n      <td>0.0</td>\n      <td>...</td>\n      <td>1</td>\n      <td>4</td>\n      <td>1.0</td>\n      <td>1.0</td>\n      <td>5</td>\n      <td>route des Ansereuilles</td>\n      <td>M</td>\n      <td>5055737.0</td>\n      <td>294992.0</td>\n      <td>590</td>\n    </tr>\n    <tr>\n      <th>3</th>\n      <td>201800000001</td>\n      <td>3</td>\n      <td>41</td>\n      <td>NaN</td>\n      <td>C</td>\n      <td>2.0</td>\n      <td>2.0</td>\n      <td>NaN</td>\n      <td>NaN</td>\n      <td>0.0</td>\n      <td>...</td>\n      <td>1</td>\n      <td>4</td>\n      <td>1.0</td>\n      <td>1.0</td>\n      <td>5</td>\n      <td>route des Ansereuilles</td>\n      <td>M</td>\n      <td>5055737.0</td>\n      <td>294992.0</td>\n      <td>590</td>\n    </tr>\n    <tr>\n      <th>4</th>\n      <td>201800000002</td>\n      <td>4</td>\n      <td>41</td>\n      <td>NaN</td>\n      <td>D</td>\n      <td>2.0</td>\n      <td>2.0</td>\n      <td>NaN</td>\n      <td>NaN</td>\n      <td>0.0</td>\n      <td>...</td>\n      <td>2</td>\n      <td>7</td>\n      <td>7.0</td>\n      <td>7.0</td>\n      <td>11</td>\n      <td>Place du général de Gaul</td>\n      <td>M</td>\n      <td>5052936.0</td>\n      <td>293151.0</td>\n      <td>590</td>\n    </tr>\n    <tr>\n      <th>5</th>\n      <td>201800000002</td>\n      <td>4</td>\n      <td>41</td>\n      <td>NaN</td>\n      <td>D</td>\n      <td>2.0</td>\n      <td>2.0</td>\n      <td>NaN</td>\n      <td>NaN</td>\n      <td>0.0</td>\n      <td>...</td>\n      <td>2</td>\n      <td>7</td>\n      <td>7.0</td>\n      <td>7.0</td>\n      <td>11</td>\n      <td>Place du général de Gaul</td>\n      <td>M</td>\n      <td>5052936.0</td>\n      <td>293151.0</td>\n      <td>590</td>\n    </tr>\n    <tr>\n      <th>6</th>\n      <td>201800000003</td>\n      <td>3</td>\n      <td>39</td>\n      <td>NaN</td>\n      <td>D</td>\n      <td>2.0</td>\n      <td>2.0</td>\n      <td>NaN</td>\n      <td>NaN</td>\n      <td>0.0</td>\n      <td>...</td>\n      <td>2</td>\n      <td>3</td>\n      <td>1.0</td>\n      <td>7.0</td>\n      <td>477</td>\n      <td>Rue  nationale</td>\n      <td>M</td>\n      <td>5051243.0</td>\n      <td>291714.0</td>\n      <td>590</td>\n    </tr>\n    <tr>\n      <th>7</th>\n      <td>201800000003</td>\n      <td>3</td>\n      <td>39</td>\n      <td>NaN</td>\n      <td>D</td>\n      <td>2.0</td>\n      <td>2.0</td>\n      <td>NaN</td>\n      <td>NaN</td>\n      <td>0.0</td>\n      <td>...</td>\n      <td>2</td>\n      <td>3</td>\n      <td>1.0</td>\n      <td>7.0</td>\n      <td>477</td>\n      <td>Rue  nationale</td>\n      <td>M</td>\n      <td>5051243.0</td>\n      <td>291714.0</td>\n      <td>590</td>\n    </tr>\n    <tr>\n      <th>8</th>\n      <td>201800000003</td>\n      <td>3</td>\n      <td>39</td>\n      <td>NaN</td>\n      <td>D</td>\n      <td>2.0</td>\n      <td>2.0</td>\n      <td>NaN</td>\n      <td>NaN</td>\n      <td>0.0</td>\n      <td>...</td>\n      <td>2</td>\n      <td>3</td>\n      <td>1.0</td>\n      <td>7.0</td>\n      <td>477</td>\n      <td>Rue  nationale</td>\n      <td>M</td>\n      <td>5051243.0</td>\n      <td>291714.0</td>\n      <td>590</td>\n    </tr>\n    <tr>\n      <th>9</th>\n      <td>201800000003</td>\n      <td>3</td>\n      <td>39</td>\n      <td>NaN</td>\n      <td>D</td>\n      <td>2.0</td>\n      <td>2.0</td>\n      <td>NaN</td>\n      <td>NaN</td>\n      <td>0.0</td>\n      <td>...</td>\n      <td>2</td>\n      <td>3</td>\n      <td>1.0</td>\n      <td>7.0</td>\n      <td>477</td>\n      <td>Rue  nationale</td>\n      <td>M</td>\n      <td>5051243.0</td>\n      <td>291714.0</td>\n      <td>590</td>\n    </tr>\n  </tbody>\n</table>\n<p>10 rows × 52 columns</p>\n</div>"
     },
     "metadata": {},
     "output_type": "execute_result",
     "execution_count": 3
    }
   ],
   "source": [
    "DataAccident2018lieux = pd.read_csv(\"données/2018/lieux-2018.csv\",\",\",encoding='latin-1')\n",
    "DataAccident2018usagers = pd.read_csv(\"données/2018/usagers-2018.csv\",\",\",encoding='latin-1')\n",
    "DataAccident2018vehicules = pd.read_csv(\"données/2018/vehicules-2018.csv\",\",\",encoding='latin-1')\n",
    "DataAccident2018caracteristiques = pd.read_csv(\"données/2018/caracteristiques-2018.csv\",\",\",encoding='latin-1')\n",
    "\n",
    "data2018firstmerge = pd.merge(DataAccident2018lieux, DataAccident2018usagers, on='Num_Acc',how=\"inner\")\n",
    "data2018secondmerge = pd.merge(data2018firstmerge, DataAccident2018vehicules, on='Num_Acc',how=\"inner\")\n",
    "dataAccident2018 = pd.merge(data2018secondmerge, DataAccident2018caracteristiques, on='Num_Acc',how=\"inner\")\n",
    "dataAccident2018 = pd.DataFrame(dataAccident2018)\n",
    "dataAccident2018.head(10)\n",
    "\n"
   ],
   "metadata": {
    "collapsed": false,
    "pycharm": {
     "name": "#%%\n",
     "is_executing": false
    }
   }
  },
  {
   "cell_type": "code",
   "execution_count": 3,
   "outputs": [],
   "source": [],
   "metadata": {
    "collapsed": false,
    "pycharm": {
     "name": "#%%\n",
     "is_executing": false
    }
   }
  }
 ],
 "metadata": {
  "kernelspec": {
   "name": "pycharm-40e4d4ed",
   "language": "python",
   "display_name": "PyCharm (Controle_DataScientist)"
  },
  "language_info": {
   "codemirror_mode": {
    "name": "ipython",
    "version": 2
   },
   "file_extension": ".py",
   "mimetype": "text/x-python",
   "name": "python",
   "nbconvert_exporter": "python",
   "pygments_lexer": "ipython2",
   "version": "2.7.6"
  },
  "pycharm": {
   "stem_cell": {
    "cell_type": "raw",
    "source": [],
    "metadata": {
     "collapsed": false
    }
   }
  }
 },
 "nbformat": 4,
 "nbformat_minor": 0
}